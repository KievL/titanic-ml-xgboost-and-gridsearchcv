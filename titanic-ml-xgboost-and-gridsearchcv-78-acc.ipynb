{
 "cells": [
  {
   "cell_type": "markdown",
   "id": "d06d2b1b",
   "metadata": {
    "papermill": {
     "duration": 0.023227,
     "end_time": "2024-10-18T23:13:02.377340",
     "exception": false,
     "start_time": "2024-10-18T23:13:02.354113",
     "status": "completed"
    },
    "tags": []
   },
   "source": [
    "# 1. Importing libraries"
   ]
  },
  {
   "cell_type": "code",
   "execution_count": 1,
   "id": "069215b7",
   "metadata": {
    "_cell_guid": "b1076dfc-b9ad-4769-8c92-a6c4dae69d19",
    "_uuid": "8f2839f25d086af736a60e9eeb907d3b93b6e0e5",
    "execution": {
     "iopub.execute_input": "2024-10-18T23:13:02.428576Z",
     "iopub.status.busy": "2024-10-18T23:13:02.428019Z",
     "iopub.status.idle": "2024-10-18T23:13:06.118543Z",
     "shell.execute_reply": "2024-10-18T23:13:06.117310Z"
    },
    "papermill": {
     "duration": 3.719675,
     "end_time": "2024-10-18T23:13:06.121821",
     "exception": false,
     "start_time": "2024-10-18T23:13:02.402146",
     "status": "completed"
    },
    "tags": []
   },
   "outputs": [],
   "source": [
    "import numpy as np\n",
    "import pandas as pd\n",
    "import warnings\n",
    "import seaborn as sns\n",
    "import matplotlib.pyplot as plt\n",
    "import re\n",
    "import math\n",
    "\n",
    "from sklearn.pipeline import Pipeline\n",
    "from sklearn.metrics import roc_auc_score, confusion_matrix, classification_report\n",
    "from sklearn.preprocessing import OneHotEncoder\n",
    "from sklearn.compose import ColumnTransformer\n",
    "from sklearn.model_selection import GridSearchCV, train_test_split, cross_val_score, StratifiedKFold\n",
    "import xgboost as xgb\n",
    "\n",
    "warnings.filterwarnings(\"ignore\")\n",
    "\n",
    "pd.set_option(\"display.max_columns\", None)"
   ]
  },
  {
   "cell_type": "markdown",
   "id": "e246ede8",
   "metadata": {
    "papermill": {
     "duration": 0.021636,
     "end_time": "2024-10-18T23:13:06.165544",
     "exception": false,
     "start_time": "2024-10-18T23:13:06.143908",
     "status": "completed"
    },
    "tags": []
   },
   "source": [
    "# 2. Reading dataset"
   ]
  },
  {
   "cell_type": "code",
   "execution_count": 2,
   "id": "9fd29803",
   "metadata": {
    "execution": {
     "iopub.execute_input": "2024-10-18T23:13:06.213383Z",
     "iopub.status.busy": "2024-10-18T23:13:06.212405Z",
     "iopub.status.idle": "2024-10-18T23:13:06.241060Z",
     "shell.execute_reply": "2024-10-18T23:13:06.239634Z"
    },
    "papermill": {
     "duration": 0.055636,
     "end_time": "2024-10-18T23:13:06.244025",
     "exception": false,
     "start_time": "2024-10-18T23:13:06.188389",
     "status": "completed"
    },
    "tags": []
   },
   "outputs": [],
   "source": [
    "df = pd.read_csv(\"/kaggle/input/titanic/train.csv\")"
   ]
  },
  {
   "cell_type": "code",
   "execution_count": 3,
   "id": "c67dedb1",
   "metadata": {
    "execution": {
     "iopub.execute_input": "2024-10-18T23:13:06.289772Z",
     "iopub.status.busy": "2024-10-18T23:13:06.289325Z",
     "iopub.status.idle": "2024-10-18T23:13:06.324354Z",
     "shell.execute_reply": "2024-10-18T23:13:06.323024Z"
    },
    "papermill": {
     "duration": 0.061203,
     "end_time": "2024-10-18T23:13:06.327390",
     "exception": false,
     "start_time": "2024-10-18T23:13:06.266187",
     "status": "completed"
    },
    "tags": []
   },
   "outputs": [
    {
     "data": {
      "text/html": [
       "<div>\n",
       "<style scoped>\n",
       "    .dataframe tbody tr th:only-of-type {\n",
       "        vertical-align: middle;\n",
       "    }\n",
       "\n",
       "    .dataframe tbody tr th {\n",
       "        vertical-align: top;\n",
       "    }\n",
       "\n",
       "    .dataframe thead th {\n",
       "        text-align: right;\n",
       "    }\n",
       "</style>\n",
       "<table border=\"1\" class=\"dataframe\">\n",
       "  <thead>\n",
       "    <tr style=\"text-align: right;\">\n",
       "      <th></th>\n",
       "      <th>PassengerId</th>\n",
       "      <th>Survived</th>\n",
       "      <th>Pclass</th>\n",
       "      <th>Name</th>\n",
       "      <th>Sex</th>\n",
       "      <th>Age</th>\n",
       "      <th>SibSp</th>\n",
       "      <th>Parch</th>\n",
       "      <th>Ticket</th>\n",
       "      <th>Fare</th>\n",
       "      <th>Cabin</th>\n",
       "      <th>Embarked</th>\n",
       "    </tr>\n",
       "  </thead>\n",
       "  <tbody>\n",
       "    <tr>\n",
       "      <th>0</th>\n",
       "      <td>1</td>\n",
       "      <td>0</td>\n",
       "      <td>3</td>\n",
       "      <td>Braund, Mr. Owen Harris</td>\n",
       "      <td>male</td>\n",
       "      <td>22.0</td>\n",
       "      <td>1</td>\n",
       "      <td>0</td>\n",
       "      <td>A/5 21171</td>\n",
       "      <td>7.2500</td>\n",
       "      <td>NaN</td>\n",
       "      <td>S</td>\n",
       "    </tr>\n",
       "    <tr>\n",
       "      <th>1</th>\n",
       "      <td>2</td>\n",
       "      <td>1</td>\n",
       "      <td>1</td>\n",
       "      <td>Cumings, Mrs. John Bradley (Florence Briggs Th...</td>\n",
       "      <td>female</td>\n",
       "      <td>38.0</td>\n",
       "      <td>1</td>\n",
       "      <td>0</td>\n",
       "      <td>PC 17599</td>\n",
       "      <td>71.2833</td>\n",
       "      <td>C85</td>\n",
       "      <td>C</td>\n",
       "    </tr>\n",
       "    <tr>\n",
       "      <th>2</th>\n",
       "      <td>3</td>\n",
       "      <td>1</td>\n",
       "      <td>3</td>\n",
       "      <td>Heikkinen, Miss. Laina</td>\n",
       "      <td>female</td>\n",
       "      <td>26.0</td>\n",
       "      <td>0</td>\n",
       "      <td>0</td>\n",
       "      <td>STON/O2. 3101282</td>\n",
       "      <td>7.9250</td>\n",
       "      <td>NaN</td>\n",
       "      <td>S</td>\n",
       "    </tr>\n",
       "    <tr>\n",
       "      <th>3</th>\n",
       "      <td>4</td>\n",
       "      <td>1</td>\n",
       "      <td>1</td>\n",
       "      <td>Futrelle, Mrs. Jacques Heath (Lily May Peel)</td>\n",
       "      <td>female</td>\n",
       "      <td>35.0</td>\n",
       "      <td>1</td>\n",
       "      <td>0</td>\n",
       "      <td>113803</td>\n",
       "      <td>53.1000</td>\n",
       "      <td>C123</td>\n",
       "      <td>S</td>\n",
       "    </tr>\n",
       "    <tr>\n",
       "      <th>4</th>\n",
       "      <td>5</td>\n",
       "      <td>0</td>\n",
       "      <td>3</td>\n",
       "      <td>Allen, Mr. William Henry</td>\n",
       "      <td>male</td>\n",
       "      <td>35.0</td>\n",
       "      <td>0</td>\n",
       "      <td>0</td>\n",
       "      <td>373450</td>\n",
       "      <td>8.0500</td>\n",
       "      <td>NaN</td>\n",
       "      <td>S</td>\n",
       "    </tr>\n",
       "    <tr>\n",
       "      <th>5</th>\n",
       "      <td>6</td>\n",
       "      <td>0</td>\n",
       "      <td>3</td>\n",
       "      <td>Moran, Mr. James</td>\n",
       "      <td>male</td>\n",
       "      <td>NaN</td>\n",
       "      <td>0</td>\n",
       "      <td>0</td>\n",
       "      <td>330877</td>\n",
       "      <td>8.4583</td>\n",
       "      <td>NaN</td>\n",
       "      <td>Q</td>\n",
       "    </tr>\n",
       "    <tr>\n",
       "      <th>6</th>\n",
       "      <td>7</td>\n",
       "      <td>0</td>\n",
       "      <td>1</td>\n",
       "      <td>McCarthy, Mr. Timothy J</td>\n",
       "      <td>male</td>\n",
       "      <td>54.0</td>\n",
       "      <td>0</td>\n",
       "      <td>0</td>\n",
       "      <td>17463</td>\n",
       "      <td>51.8625</td>\n",
       "      <td>E46</td>\n",
       "      <td>S</td>\n",
       "    </tr>\n",
       "    <tr>\n",
       "      <th>7</th>\n",
       "      <td>8</td>\n",
       "      <td>0</td>\n",
       "      <td>3</td>\n",
       "      <td>Palsson, Master. Gosta Leonard</td>\n",
       "      <td>male</td>\n",
       "      <td>2.0</td>\n",
       "      <td>3</td>\n",
       "      <td>1</td>\n",
       "      <td>349909</td>\n",
       "      <td>21.0750</td>\n",
       "      <td>NaN</td>\n",
       "      <td>S</td>\n",
       "    </tr>\n",
       "    <tr>\n",
       "      <th>8</th>\n",
       "      <td>9</td>\n",
       "      <td>1</td>\n",
       "      <td>3</td>\n",
       "      <td>Johnson, Mrs. Oscar W (Elisabeth Vilhelmina Berg)</td>\n",
       "      <td>female</td>\n",
       "      <td>27.0</td>\n",
       "      <td>0</td>\n",
       "      <td>2</td>\n",
       "      <td>347742</td>\n",
       "      <td>11.1333</td>\n",
       "      <td>NaN</td>\n",
       "      <td>S</td>\n",
       "    </tr>\n",
       "    <tr>\n",
       "      <th>9</th>\n",
       "      <td>10</td>\n",
       "      <td>1</td>\n",
       "      <td>2</td>\n",
       "      <td>Nasser, Mrs. Nicholas (Adele Achem)</td>\n",
       "      <td>female</td>\n",
       "      <td>14.0</td>\n",
       "      <td>1</td>\n",
       "      <td>0</td>\n",
       "      <td>237736</td>\n",
       "      <td>30.0708</td>\n",
       "      <td>NaN</td>\n",
       "      <td>C</td>\n",
       "    </tr>\n",
       "  </tbody>\n",
       "</table>\n",
       "</div>"
      ],
      "text/plain": [
       "   PassengerId  Survived  Pclass  \\\n",
       "0            1         0       3   \n",
       "1            2         1       1   \n",
       "2            3         1       3   \n",
       "3            4         1       1   \n",
       "4            5         0       3   \n",
       "5            6         0       3   \n",
       "6            7         0       1   \n",
       "7            8         0       3   \n",
       "8            9         1       3   \n",
       "9           10         1       2   \n",
       "\n",
       "                                                Name     Sex   Age  SibSp  \\\n",
       "0                            Braund, Mr. Owen Harris    male  22.0      1   \n",
       "1  Cumings, Mrs. John Bradley (Florence Briggs Th...  female  38.0      1   \n",
       "2                             Heikkinen, Miss. Laina  female  26.0      0   \n",
       "3       Futrelle, Mrs. Jacques Heath (Lily May Peel)  female  35.0      1   \n",
       "4                           Allen, Mr. William Henry    male  35.0      0   \n",
       "5                                   Moran, Mr. James    male   NaN      0   \n",
       "6                            McCarthy, Mr. Timothy J    male  54.0      0   \n",
       "7                     Palsson, Master. Gosta Leonard    male   2.0      3   \n",
       "8  Johnson, Mrs. Oscar W (Elisabeth Vilhelmina Berg)  female  27.0      0   \n",
       "9                Nasser, Mrs. Nicholas (Adele Achem)  female  14.0      1   \n",
       "\n",
       "   Parch            Ticket     Fare Cabin Embarked  \n",
       "0      0         A/5 21171   7.2500   NaN        S  \n",
       "1      0          PC 17599  71.2833   C85        C  \n",
       "2      0  STON/O2. 3101282   7.9250   NaN        S  \n",
       "3      0            113803  53.1000  C123        S  \n",
       "4      0            373450   8.0500   NaN        S  \n",
       "5      0            330877   8.4583   NaN        Q  \n",
       "6      0             17463  51.8625   E46        S  \n",
       "7      1            349909  21.0750   NaN        S  \n",
       "8      2            347742  11.1333   NaN        S  \n",
       "9      0            237736  30.0708   NaN        C  "
      ]
     },
     "execution_count": 3,
     "metadata": {},
     "output_type": "execute_result"
    }
   ],
   "source": [
    "df.head(10)"
   ]
  },
  {
   "cell_type": "code",
   "execution_count": 4,
   "id": "b0b6593b",
   "metadata": {
    "execution": {
     "iopub.execute_input": "2024-10-18T23:13:06.375139Z",
     "iopub.status.busy": "2024-10-18T23:13:06.374682Z",
     "iopub.status.idle": "2024-10-18T23:13:06.403965Z",
     "shell.execute_reply": "2024-10-18T23:13:06.402637Z"
    },
    "papermill": {
     "duration": 0.05642,
     "end_time": "2024-10-18T23:13:06.406852",
     "exception": false,
     "start_time": "2024-10-18T23:13:06.350432",
     "status": "completed"
    },
    "tags": []
   },
   "outputs": [
    {
     "name": "stdout",
     "output_type": "stream",
     "text": [
      "<class 'pandas.core.frame.DataFrame'>\n",
      "RangeIndex: 891 entries, 0 to 890\n",
      "Data columns (total 12 columns):\n",
      " #   Column       Non-Null Count  Dtype  \n",
      "---  ------       --------------  -----  \n",
      " 0   PassengerId  891 non-null    int64  \n",
      " 1   Survived     891 non-null    int64  \n",
      " 2   Pclass       891 non-null    int64  \n",
      " 3   Name         891 non-null    object \n",
      " 4   Sex          891 non-null    object \n",
      " 5   Age          714 non-null    float64\n",
      " 6   SibSp        891 non-null    int64  \n",
      " 7   Parch        891 non-null    int64  \n",
      " 8   Ticket       891 non-null    object \n",
      " 9   Fare         891 non-null    float64\n",
      " 10  Cabin        204 non-null    object \n",
      " 11  Embarked     889 non-null    object \n",
      "dtypes: float64(2), int64(5), object(5)\n",
      "memory usage: 83.7+ KB\n"
     ]
    }
   ],
   "source": [
    "df.info()"
   ]
  },
  {
   "cell_type": "code",
   "execution_count": 5,
   "id": "b1c27389",
   "metadata": {
    "execution": {
     "iopub.execute_input": "2024-10-18T23:13:06.454509Z",
     "iopub.status.busy": "2024-10-18T23:13:06.453327Z",
     "iopub.status.idle": "2024-10-18T23:13:06.491372Z",
     "shell.execute_reply": "2024-10-18T23:13:06.489948Z"
    },
    "papermill": {
     "duration": 0.064723,
     "end_time": "2024-10-18T23:13:06.494158",
     "exception": false,
     "start_time": "2024-10-18T23:13:06.429435",
     "status": "completed"
    },
    "tags": []
   },
   "outputs": [
    {
     "data": {
      "text/html": [
       "<div>\n",
       "<style scoped>\n",
       "    .dataframe tbody tr th:only-of-type {\n",
       "        vertical-align: middle;\n",
       "    }\n",
       "\n",
       "    .dataframe tbody tr th {\n",
       "        vertical-align: top;\n",
       "    }\n",
       "\n",
       "    .dataframe thead th {\n",
       "        text-align: right;\n",
       "    }\n",
       "</style>\n",
       "<table border=\"1\" class=\"dataframe\">\n",
       "  <thead>\n",
       "    <tr style=\"text-align: right;\">\n",
       "      <th></th>\n",
       "      <th>PassengerId</th>\n",
       "      <th>Survived</th>\n",
       "      <th>Pclass</th>\n",
       "      <th>Age</th>\n",
       "      <th>SibSp</th>\n",
       "      <th>Parch</th>\n",
       "      <th>Fare</th>\n",
       "    </tr>\n",
       "  </thead>\n",
       "  <tbody>\n",
       "    <tr>\n",
       "      <th>count</th>\n",
       "      <td>891.000000</td>\n",
       "      <td>891.000000</td>\n",
       "      <td>891.000000</td>\n",
       "      <td>714.000000</td>\n",
       "      <td>891.000000</td>\n",
       "      <td>891.000000</td>\n",
       "      <td>891.000000</td>\n",
       "    </tr>\n",
       "    <tr>\n",
       "      <th>mean</th>\n",
       "      <td>446.000000</td>\n",
       "      <td>0.383838</td>\n",
       "      <td>2.308642</td>\n",
       "      <td>29.699118</td>\n",
       "      <td>0.523008</td>\n",
       "      <td>0.381594</td>\n",
       "      <td>32.204208</td>\n",
       "    </tr>\n",
       "    <tr>\n",
       "      <th>std</th>\n",
       "      <td>257.353842</td>\n",
       "      <td>0.486592</td>\n",
       "      <td>0.836071</td>\n",
       "      <td>14.526497</td>\n",
       "      <td>1.102743</td>\n",
       "      <td>0.806057</td>\n",
       "      <td>49.693429</td>\n",
       "    </tr>\n",
       "    <tr>\n",
       "      <th>min</th>\n",
       "      <td>1.000000</td>\n",
       "      <td>0.000000</td>\n",
       "      <td>1.000000</td>\n",
       "      <td>0.420000</td>\n",
       "      <td>0.000000</td>\n",
       "      <td>0.000000</td>\n",
       "      <td>0.000000</td>\n",
       "    </tr>\n",
       "    <tr>\n",
       "      <th>25%</th>\n",
       "      <td>223.500000</td>\n",
       "      <td>0.000000</td>\n",
       "      <td>2.000000</td>\n",
       "      <td>20.125000</td>\n",
       "      <td>0.000000</td>\n",
       "      <td>0.000000</td>\n",
       "      <td>7.910400</td>\n",
       "    </tr>\n",
       "    <tr>\n",
       "      <th>50%</th>\n",
       "      <td>446.000000</td>\n",
       "      <td>0.000000</td>\n",
       "      <td>3.000000</td>\n",
       "      <td>28.000000</td>\n",
       "      <td>0.000000</td>\n",
       "      <td>0.000000</td>\n",
       "      <td>14.454200</td>\n",
       "    </tr>\n",
       "    <tr>\n",
       "      <th>75%</th>\n",
       "      <td>668.500000</td>\n",
       "      <td>1.000000</td>\n",
       "      <td>3.000000</td>\n",
       "      <td>38.000000</td>\n",
       "      <td>1.000000</td>\n",
       "      <td>0.000000</td>\n",
       "      <td>31.000000</td>\n",
       "    </tr>\n",
       "    <tr>\n",
       "      <th>max</th>\n",
       "      <td>891.000000</td>\n",
       "      <td>1.000000</td>\n",
       "      <td>3.000000</td>\n",
       "      <td>80.000000</td>\n",
       "      <td>8.000000</td>\n",
       "      <td>6.000000</td>\n",
       "      <td>512.329200</td>\n",
       "    </tr>\n",
       "  </tbody>\n",
       "</table>\n",
       "</div>"
      ],
      "text/plain": [
       "       PassengerId    Survived      Pclass         Age       SibSp  \\\n",
       "count   891.000000  891.000000  891.000000  714.000000  891.000000   \n",
       "mean    446.000000    0.383838    2.308642   29.699118    0.523008   \n",
       "std     257.353842    0.486592    0.836071   14.526497    1.102743   \n",
       "min       1.000000    0.000000    1.000000    0.420000    0.000000   \n",
       "25%     223.500000    0.000000    2.000000   20.125000    0.000000   \n",
       "50%     446.000000    0.000000    3.000000   28.000000    0.000000   \n",
       "75%     668.500000    1.000000    3.000000   38.000000    1.000000   \n",
       "max     891.000000    1.000000    3.000000   80.000000    8.000000   \n",
       "\n",
       "            Parch        Fare  \n",
       "count  891.000000  891.000000  \n",
       "mean     0.381594   32.204208  \n",
       "std      0.806057   49.693429  \n",
       "min      0.000000    0.000000  \n",
       "25%      0.000000    7.910400  \n",
       "50%      0.000000   14.454200  \n",
       "75%      0.000000   31.000000  \n",
       "max      6.000000  512.329200  "
      ]
     },
     "execution_count": 5,
     "metadata": {},
     "output_type": "execute_result"
    }
   ],
   "source": [
    "df.describe()"
   ]
  },
  {
   "cell_type": "markdown",
   "id": "8d4b2189",
   "metadata": {
    "papermill": {
     "duration": 0.022801,
     "end_time": "2024-10-18T23:13:06.540039",
     "exception": false,
     "start_time": "2024-10-18T23:13:06.517238",
     "status": "completed"
    },
    "tags": []
   },
   "source": [
    "# 3. Investigating dataset"
   ]
  },
  {
   "cell_type": "markdown",
   "id": "7e31ba23",
   "metadata": {
    "papermill": {
     "duration": 0.023655,
     "end_time": "2024-10-18T23:13:06.586549",
     "exception": false,
     "start_time": "2024-10-18T23:13:06.562894",
     "status": "completed"
    },
    "tags": []
   },
   "source": [
    "## Missing values\n"
   ]
  },
  {
   "cell_type": "code",
   "execution_count": 6,
   "id": "8fd24af6",
   "metadata": {
    "execution": {
     "iopub.execute_input": "2024-10-18T23:13:06.635047Z",
     "iopub.status.busy": "2024-10-18T23:13:06.634160Z",
     "iopub.status.idle": "2024-10-18T23:13:07.135650Z",
     "shell.execute_reply": "2024-10-18T23:13:07.133836Z"
    },
    "papermill": {
     "duration": 0.529588,
     "end_time": "2024-10-18T23:13:07.139010",
     "exception": false,
     "start_time": "2024-10-18T23:13:06.609422",
     "status": "completed"
    },
    "tags": []
   },
   "outputs": [
    {
     "data": {
      "image/png": "[encoded data removed]",
      "text/plain": [
       "<Figure size 640x480 with 1 Axes>"
      ]
     },
     "metadata": {},
     "output_type": "display_data"
    }
   ],
   "source": [
    "ax = (100*((~df.isna()).sum())/df.shape[0]).plot.barh()\n",
    "\n",
    "for cont in ax.containers:\n",
    "    ax.bar_label(cont, fmt=\"%.1f%%\")\n",
    "\n",
    "#df_nulls"
   ]
  },
  {
   "cell_type": "markdown",
   "id": "9ee129fa",
   "metadata": {
    "papermill": {
     "duration": 0.028994,
     "end_time": "2024-10-18T23:13:07.195750",
     "exception": false,
     "start_time": "2024-10-18T23:13:07.166756",
     "status": "completed"
    },
    "tags": []
   },
   "source": [
    "### Investigating Embarked missing values"
   ]
  },
  {
   "cell_type": "code",
   "execution_count": 7,
   "id": "55a6ce46",
   "metadata": {
    "execution": {
     "iopub.execute_input": "2024-10-18T23:13:07.249701Z",
     "iopub.status.busy": "2024-10-18T23:13:07.249121Z",
     "iopub.status.idle": "2024-10-18T23:13:07.258302Z",
     "shell.execute_reply": "2024-10-18T23:13:07.256952Z"
    },
    "papermill": {
     "duration": 0.03838,
     "end_time": "2024-10-18T23:13:07.261016",
     "exception": false,
     "start_time": "2024-10-18T23:13:07.222636",
     "status": "completed"
    },
    "tags": []
   },
   "outputs": [
    {
     "data": {
      "text/plain": [
       "array(['S', 'C', 'Q', nan], dtype=object)"
      ]
     },
     "execution_count": 7,
     "metadata": {},
     "output_type": "execute_result"
    }
   ],
   "source": [
    "df[\"Embarked\"].unique()"
   ]
  },
  {
   "cell_type": "markdown",
   "id": "b54b57f9",
   "metadata": {
    "papermill": {
     "duration": 0.025555,
     "end_time": "2024-10-18T23:13:07.311346",
     "exception": false,
     "start_time": "2024-10-18T23:13:07.285791",
     "status": "completed"
    },
    "tags": []
   },
   "source": [
    "**Notes:**\n",
    "- Only 0.2% are nan."
   ]
  },
  {
   "cell_type": "markdown",
   "id": "bf8568aa",
   "metadata": {
    "papermill": {
     "duration": 0.024824,
     "end_time": "2024-10-18T23:13:07.362390",
     "exception": false,
     "start_time": "2024-10-18T23:13:07.337566",
     "status": "completed"
    },
    "tags": []
   },
   "source": [
    "### Investigating Cabin missing values"
   ]
  },
  {
   "cell_type": "code",
   "execution_count": 8,
   "id": "44a92dd1",
   "metadata": {
    "execution": {
     "iopub.execute_input": "2024-10-18T23:13:07.415320Z",
     "iopub.status.busy": "2024-10-18T23:13:07.414043Z",
     "iopub.status.idle": "2024-10-18T23:13:07.423592Z",
     "shell.execute_reply": "2024-10-18T23:13:07.422375Z"
    },
    "papermill": {
     "duration": 0.03986,
     "end_time": "2024-10-18T23:13:07.426186",
     "exception": false,
     "start_time": "2024-10-18T23:13:07.386326",
     "status": "completed"
    },
    "tags": []
   },
   "outputs": [
    {
     "data": {
      "text/plain": [
       "array([nan, 'C85', 'C123', 'E46', 'G6', 'C103', 'D56', 'A6',\n",
       "       'C23 C25 C27', 'B78', 'D33', 'B30', 'C52', 'B28', 'C83', 'F33',\n",
       "       'F G73', 'E31', 'A5', 'D10 D12', 'D26', 'C110', 'B58 B60', 'E101',\n",
       "       'F E69', 'D47', 'B86', 'F2', 'C2', 'E33', 'B19', 'A7', 'C49', 'F4',\n",
       "       'A32', 'B4', 'B80', 'A31', 'D36', 'D15', 'C93', 'C78', 'D35',\n",
       "       'C87', 'B77', 'E67', 'B94', 'C125', 'C99', 'C118', 'D7', 'A19',\n",
       "       'B49', 'D', 'C22 C26', 'C106', 'C65', 'E36', 'C54',\n",
       "       'B57 B59 B63 B66', 'C7', 'E34', 'C32', 'B18', 'C124', 'C91', 'E40',\n",
       "       'T', 'C128', 'D37', 'B35', 'E50', 'C82', 'B96 B98', 'E10', 'E44',\n",
       "       'A34', 'C104', 'C111', 'C92', 'E38', 'D21', 'E12', 'E63', 'A14',\n",
       "       'B37', 'C30', 'D20', 'B79', 'E25', 'D46', 'B73', 'C95', 'B38',\n",
       "       'B39', 'B22', 'C86', 'C70', 'A16', 'C101', 'C68', 'A10', 'E68',\n",
       "       'B41', 'A20', 'D19', 'D50', 'D9', 'A23', 'B50', 'A26', 'D48',\n",
       "       'E58', 'C126', 'B71', 'B51 B53 B55', 'D49', 'B5', 'B20', 'F G63',\n",
       "       'C62 C64', 'E24', 'C90', 'C45', 'E8', 'B101', 'D45', 'C46', 'D30',\n",
       "       'E121', 'D11', 'E77', 'F38', 'B3', 'D6', 'B82 B84', 'D17', 'A36',\n",
       "       'B102', 'B69', 'E49', 'C47', 'D28', 'E17', 'A24', 'C50', 'B42',\n",
       "       'C148'], dtype=object)"
      ]
     },
     "execution_count": 8,
     "metadata": {},
     "output_type": "execute_result"
    }
   ],
   "source": [
    "df[\"Cabin\"].unique()"
   ]
  },
  {
   "cell_type": "code",
   "execution_count": 9,
   "id": "f99010a3",
   "metadata": {
    "execution": {
     "iopub.execute_input": "2024-10-18T23:13:07.481314Z",
     "iopub.status.busy": "2024-10-18T23:13:07.480469Z",
     "iopub.status.idle": "2024-10-18T23:13:07.763349Z",
     "shell.execute_reply": "2024-10-18T23:13:07.761963Z"
    },
    "papermill": {
     "duration": 0.316382,
     "end_time": "2024-10-18T23:13:07.766204",
     "exception": false,
     "start_time": "2024-10-18T23:13:07.449822",
     "status": "completed"
    },
    "tags": []
   },
   "outputs": [
    {
     "data": {
      "text/plain": [
       "Text(0.5, 0, 'NaN Percentage')"
      ]
     },
     "execution_count": 9,
     "metadata": {},
     "output_type": "execute_result"
    },
    {
     "data": {
      "image/png": "[encoded data removed]",
      "text/plain": [
       "<Figure size 640x480 with 1 Axes>"
      ]
     },
     "metadata": {},
     "output_type": "display_data"
    }
   ],
   "source": [
    "ax = df.groupby(\"Pclass\")[\"Cabin\"].apply(lambda x: x.isna().mean()*100).plot.barh()\n",
    "\n",
    "for cont in ax.containers:\n",
    "    ax.bar_label(cont, fmt= \"%.1f%%\")\n",
    "    \n",
    "plt.xlabel(\"NaN Percentage\")\n"
   ]
  },
  {
   "cell_type": "markdown",
   "id": "755e68bd",
   "metadata": {
    "papermill": {
     "duration": 0.024299,
     "end_time": "2024-10-18T23:13:07.816396",
     "exception": false,
     "start_time": "2024-10-18T23:13:07.792097",
     "status": "completed"
    },
    "tags": []
   },
   "source": [
    "**Notes**:\n",
    "- Most information about cabins is from passengers from first class.\n"
   ]
  },
  {
   "cell_type": "markdown",
   "id": "468b2988",
   "metadata": {
    "papermill": {
     "duration": 0.02439,
     "end_time": "2024-10-18T23:13:07.866085",
     "exception": false,
     "start_time": "2024-10-18T23:13:07.841695",
     "status": "completed"
    },
    "tags": []
   },
   "source": [
    "### Investigating Age missing values"
   ]
  },
  {
   "cell_type": "code",
   "execution_count": 10,
   "id": "2397babb",
   "metadata": {
    "execution": {
     "iopub.execute_input": "2024-10-18T23:13:07.917880Z",
     "iopub.status.busy": "2024-10-18T23:13:07.917395Z",
     "iopub.status.idle": "2024-10-18T23:13:08.453830Z",
     "shell.execute_reply": "2024-10-18T23:13:08.452652Z"
    },
    "papermill": {
     "duration": 0.565381,
     "end_time": "2024-10-18T23:13:08.456404",
     "exception": false,
     "start_time": "2024-10-18T23:13:07.891023",
     "status": "completed"
    },
    "tags": []
   },
   "outputs": [
    {
     "data": {
      "text/plain": [
       "Text(0.5, 0, 'NaN Percentage')"
      ]
     },
     "execution_count": 10,
     "metadata": {},
     "output_type": "execute_result"
    },
    {
     "data": {
      "image/png": "[encoded data removed]",
      "text/plain": [
       "<Figure size 1500x500 with 3 Axes>"
      ]
     },
     "metadata": {},
     "output_type": "display_data"
    }
   ],
   "source": [
    "fig, axes = plt.subplots(ncols=3, nrows=1, figsize=(15,5))\n",
    "df.groupby(\"Sex\")[\"Age\"].apply(lambda x: x.isna().mean() * 100).plot.barh(ax=axes[0])\n",
    "axes[0].set_xlabel(\"NaN Percentage\")\n",
    "df.groupby(\"Pclass\")[\"Age\"].apply(lambda x: x.isna().mean() * 100).plot.barh(ax=axes[1])\n",
    "axes[1].set_xlabel(\"NaN Percentage\")\n",
    "df.groupby(\"Survived\")[\"Age\"].apply(lambda x: x.isna().mean() * 100).plot.barh(ax=axes[2])\n",
    "axes[2].set_xlabel(\"NaN Percentage\")"
   ]
  },
  {
   "cell_type": "markdown",
   "id": "0d87c076",
   "metadata": {
    "papermill": {
     "duration": 0.025833,
     "end_time": "2024-10-18T23:13:08.506935",
     "exception": false,
     "start_time": "2024-10-18T23:13:08.481102",
     "status": "completed"
    },
    "tags": []
   },
   "source": [
    "**Notes:**\n",
    "- Missing values are similar for male and female\n",
    "- Most NaNs are from passengers from 3rd class"
   ]
  },
  {
   "cell_type": "markdown",
   "id": "df1ae63b",
   "metadata": {
    "papermill": {
     "duration": 0.025796,
     "end_time": "2024-10-18T23:13:08.557547",
     "exception": false,
     "start_time": "2024-10-18T23:13:08.531751",
     "status": "completed"
    },
    "tags": []
   },
   "source": [
    "## Engineering data"
   ]
  },
  {
   "cell_type": "markdown",
   "id": "7b35a615",
   "metadata": {
    "papermill": {
     "duration": 0.024596,
     "end_time": "2024-10-18T23:13:08.607730",
     "exception": false,
     "start_time": "2024-10-18T23:13:08.583134",
     "status": "completed"
    },
    "tags": []
   },
   "source": [
    "- Feature based on age. \n",
    "- Two others features can be created considering cabin letter and number.\n",
    "- A feature can be created considering passengers titles.\n",
    "- Number of relatives in the ship can be a feature.\n",
    "\n",
    "Age clustering:\n",
    "- Children: [0,12]\n",
    "- Teens: [13,21]\n",
    "- Adults 1: [22, 30]\n",
    "- Adults 2: [31, 40]\n",
    "- Adults 3: [41, 60]\n",
    "- Idosos: [60, +inf]"
   ]
  },
  {
   "cell_type": "code",
   "execution_count": 11,
   "id": "b1128c13",
   "metadata": {
    "execution": {
     "iopub.execute_input": "2024-10-18T23:13:08.661099Z",
     "iopub.status.busy": "2024-10-18T23:13:08.660402Z",
     "iopub.status.idle": "2024-10-18T23:13:08.669718Z",
     "shell.execute_reply": "2024-10-18T23:13:08.668402Z"
    },
    "papermill": {
     "duration": 0.03875,
     "end_time": "2024-10-18T23:13:08.672480",
     "exception": false,
     "start_time": "2024-10-18T23:13:08.633730",
     "status": "completed"
    },
    "tags": []
   },
   "outputs": [],
   "source": [
    "def age_classification(row):\n",
    "    val = row[\"Age\"]\n",
    "    \n",
    "    if val<=12:\n",
    "        row[\"AgeClass\"] = 1 # child\n",
    "    elif val<= 21:\n",
    "        row[\"AgeClass\"] = 2 # teen\n",
    "    elif val<= 30:\n",
    "        row[\"AgeClass\"] = 3 # adult1\n",
    "    elif val <= 40:\n",
    "        row[\"AgeClass\"] = 4 # adult2\n",
    "    elif val <= 60:\n",
    "        row[\"AgeClass\"] = 5 # adult3\n",
    "    elif val >60:\n",
    "        row[\"AgeClass\"] = 6 # old\n",
    "    else:\n",
    "        if \"Master\" in row[\"Name\"]:\n",
    "            row[\"AgeClass\"] = 1 # child\n",
    "        else:\n",
    "            row[\"AgeClass\"] = 7 #unknown\n",
    "    \n",
    "    return row"
   ]
  },
  {
   "cell_type": "code",
   "execution_count": 12,
   "id": "7fce97d1",
   "metadata": {
    "execution": {
     "iopub.execute_input": "2024-10-18T23:13:08.724232Z",
     "iopub.status.busy": "2024-10-18T23:13:08.723775Z",
     "iopub.status.idle": "2024-10-18T23:13:09.471435Z",
     "shell.execute_reply": "2024-10-18T23:13:09.469691Z"
    },
    "papermill": {
     "duration": 0.776722,
     "end_time": "2024-10-18T23:13:09.474234",
     "exception": false,
     "start_time": "2024-10-18T23:13:08.697512",
     "status": "completed"
    },
    "tags": []
   },
   "outputs": [
    {
     "name": "stdout",
     "output_type": "stream",
     "text": [
      "AgeClass\n",
      "3    205\n",
      "7    173\n",
      "4    155\n",
      "2    135\n",
      "5    128\n",
      "1     73\n",
      "6     22\n",
      "Name: count, dtype: int64\n"
     ]
    }
   ],
   "source": [
    "df = df.apply(age_classification, axis=1)\n",
    "print(df[\"AgeClass\"].value_counts())"
   ]
  },
  {
   "cell_type": "code",
   "execution_count": 13,
   "id": "5cd60b89",
   "metadata": {
    "execution": {
     "iopub.execute_input": "2024-10-18T23:13:09.527808Z",
     "iopub.status.busy": "2024-10-18T23:13:09.527366Z",
     "iopub.status.idle": "2024-10-18T23:13:09.891625Z",
     "shell.execute_reply": "2024-10-18T23:13:09.890331Z"
    },
    "papermill": {
     "duration": 0.393832,
     "end_time": "2024-10-18T23:13:09.894511",
     "exception": false,
     "start_time": "2024-10-18T23:13:09.500679",
     "status": "completed"
    },
    "tags": []
   },
   "outputs": [
    {
     "data": {
      "text/plain": [
       "<Axes: xlabel='AgeClass', ylabel='count'>"
      ]
     },
     "execution_count": 13,
     "metadata": {},
     "output_type": "execute_result"
    },
    {
     "data": {
      "image/png": "[encoded data removed]",
      "text/plain": [
       "<Figure size 640x480 with 1 Axes>"
      ]
     },
     "metadata": {},
     "output_type": "display_data"
    }
   ],
   "source": [
    "sns.countplot(data=df, x=\"AgeClass\", hue=\"Survived\")"
   ]
  },
  {
   "cell_type": "code",
   "execution_count": 14,
   "id": "fd4e07f2",
   "metadata": {
    "execution": {
     "iopub.execute_input": "2024-10-18T23:13:09.947833Z",
     "iopub.status.busy": "2024-10-18T23:13:09.947413Z",
     "iopub.status.idle": "2024-10-18T23:13:09.954772Z",
     "shell.execute_reply": "2024-10-18T23:13:09.953661Z"
    },
    "papermill": {
     "duration": 0.036622,
     "end_time": "2024-10-18T23:13:09.957154",
     "exception": false,
     "start_time": "2024-10-18T23:13:09.920532",
     "status": "completed"
    },
    "tags": []
   },
   "outputs": [],
   "source": [
    "def title_class(row):\n",
    "    \n",
    "    if \"Master.\" in row[\"Name\"]:\n",
    "        row[\"Title\"] = 1 # Master\n",
    "    elif \"Mr.\" in row[\"Name\"]:\n",
    "        row[\"Title\"] = 2 # Mr\n",
    "    elif \"Miss.\" in row[\"Name\"]:\n",
    "        row[\"Title\"] = 3 # Miss\n",
    "    elif \"Mrs\" in row[\"Name\"]:\n",
    "        row[\"Title\"] = 4 # Mrs\n",
    "    else:\n",
    "        print()\n",
    "        row[\"Title\"] = 5 # Any other ?\n",
    "    \n",
    "    return row"
   ]
  },
  {
   "cell_type": "code",
   "execution_count": 15,
   "id": "e4082ce1",
   "metadata": {
    "execution": {
     "iopub.execute_input": "2024-10-18T23:13:10.009788Z",
     "iopub.status.busy": "2024-10-18T23:13:10.009256Z",
     "iopub.status.idle": "2024-10-18T23:13:10.645088Z",
     "shell.execute_reply": "2024-10-18T23:13:10.643980Z"
    },
    "papermill": {
     "duration": 0.666016,
     "end_time": "2024-10-18T23:13:10.648369",
     "exception": false,
     "start_time": "2024-10-18T23:13:09.982353",
     "status": "completed"
    },
    "tags": []
   },
   "outputs": [
    {
     "name": "stdout",
     "output_type": "stream",
     "text": [
      "\n",
      "\n",
      "\n",
      "\n",
      "\n",
      "\n",
      "\n",
      "\n",
      "\n",
      "\n",
      "\n",
      "\n",
      "\n",
      "\n",
      "\n",
      "\n",
      "\n",
      "\n",
      "\n",
      "\n",
      "\n",
      "\n",
      "\n",
      "\n",
      "\n",
      "Title\n",
      "2    517\n",
      "3    182\n",
      "4    127\n",
      "1     40\n",
      "5     25\n",
      "Name: count, dtype: int64\n"
     ]
    }
   ],
   "source": [
    "df = df.apply(title_class, axis=1)\n",
    "print(df[\"Title\"].value_counts())"
   ]
  },
  {
   "cell_type": "code",
   "execution_count": 16,
   "id": "5d24925e",
   "metadata": {
    "execution": {
     "iopub.execute_input": "2024-10-18T23:13:10.703386Z",
     "iopub.status.busy": "2024-10-18T23:13:10.701816Z",
     "iopub.status.idle": "2024-10-18T23:13:10.974094Z",
     "shell.execute_reply": "2024-10-18T23:13:10.972747Z"
    },
    "papermill": {
     "duration": 0.302499,
     "end_time": "2024-10-18T23:13:10.976897",
     "exception": false,
     "start_time": "2024-10-18T23:13:10.674398",
     "status": "completed"
    },
    "tags": []
   },
   "outputs": [
    {
     "data": {
      "text/plain": [
       "<Axes: xlabel='Title', ylabel='count'>"
      ]
     },
     "execution_count": 16,
     "metadata": {},
     "output_type": "execute_result"
    },
    {
     "data": {
      "image/png": "[encoded data removed]",
      "text/plain": [
       "<Figure size 640x480 with 1 Axes>"
      ]
     },
     "metadata": {},
     "output_type": "display_data"
    }
   ],
   "source": [
    "sns.countplot(data=df, x=\"Title\", hue=\"Survived\")"
   ]
  },
  {
   "cell_type": "code",
   "execution_count": 17,
   "id": "617c570f",
   "metadata": {
    "execution": {
     "iopub.execute_input": "2024-10-18T23:13:11.031126Z",
     "iopub.status.busy": "2024-10-18T23:13:11.030674Z",
     "iopub.status.idle": "2024-10-18T23:13:11.042263Z",
     "shell.execute_reply": "2024-10-18T23:13:11.040933Z"
    },
    "papermill": {
     "duration": 0.0422,
     "end_time": "2024-10-18T23:13:11.045271",
     "exception": false,
     "start_time": "2024-10-18T23:13:11.003071",
     "status": "completed"
    },
    "tags": []
   },
   "outputs": [],
   "source": [
    "def cabin_class(row):\n",
    "    try:    \n",
    "        letter = re.findall(r'[A-Z]',row[\"Cabin\"])\n",
    "        letter = list(set(letter))\n",
    "                      \n",
    "        row[\"CabinLetter\"] =  letter[0]\n",
    "    except:\n",
    "        row[\"CabinLetter\"] =  \"Unknown\"\n",
    "        row[\"CabinNumber\"] =  0\n",
    "        return row\n",
    "    \n",
    "    number = re.findall(r'[A-Z](\\d+)', row[\"Cabin\"])\n",
    "    number = list(set(number))\n",
    "    \n",
    "    if len(number)>0:\n",
    "        number = int(number[0])\n",
    "        \n",
    "        if number< 25:\n",
    "            row[\"CabinNumber\"] = 1\n",
    "        elif number < 50:\n",
    "            row[\"CabinNumber\"] = 2\n",
    "        elif number < 75:\n",
    "            row[\"CabinNumber\"] = 3\n",
    "        elif number < 100:\n",
    "            row[\"CabinNumber\"] = 4\n",
    "        elif number < 125:\n",
    "            row[\"CabinNumber\"] = 5\n",
    "        else:\n",
    "            row[\"CabinNumber\"] = 6    \n",
    "    else:\n",
    "        row[\"CabinNumber\"] = 0\n",
    "    \n",
    "    return row"
   ]
  },
  {
   "cell_type": "code",
   "execution_count": 18,
   "id": "9ac18cb5",
   "metadata": {
    "execution": {
     "iopub.execute_input": "2024-10-18T23:13:11.101319Z",
     "iopub.status.busy": "2024-10-18T23:13:11.100853Z",
     "iopub.status.idle": "2024-10-18T23:13:12.237122Z",
     "shell.execute_reply": "2024-10-18T23:13:12.235912Z"
    },
    "papermill": {
     "duration": 1.167446,
     "end_time": "2024-10-18T23:13:12.240026",
     "exception": false,
     "start_time": "2024-10-18T23:13:11.072580",
     "status": "completed"
    },
    "tags": []
   },
   "outputs": [],
   "source": [
    "df = df.apply(cabin_class, axis=1)"
   ]
  },
  {
   "cell_type": "code",
   "execution_count": 19,
   "id": "93889f45",
   "metadata": {
    "execution": {
     "iopub.execute_input": "2024-10-18T23:13:12.294391Z",
     "iopub.status.busy": "2024-10-18T23:13:12.293983Z",
     "iopub.status.idle": "2024-10-18T23:13:12.841811Z",
     "shell.execute_reply": "2024-10-18T23:13:12.840556Z"
    },
    "papermill": {
     "duration": 0.578158,
     "end_time": "2024-10-18T23:13:12.844685",
     "exception": false,
     "start_time": "2024-10-18T23:13:12.266527",
     "status": "completed"
    },
    "tags": []
   },
   "outputs": [
    {
     "data": {
      "text/plain": [
       "<Axes: xlabel='CabinNumber', ylabel='count'>"
      ]
     },
     "execution_count": 19,
     "metadata": {},
     "output_type": "execute_result"
    },
    {
     "data": {
      "image/png": "[encoded data removed]",
      "text/plain": [
       "<Figure size 1200x500 with 2 Axes>"
      ]
     },
     "metadata": {},
     "output_type": "display_data"
    }
   ],
   "source": [
    "fig, axes = plt.subplots(ncols=2, nrows=1, figsize=(12,5))\n",
    "\n",
    "sns.countplot(data=df, x=\"CabinLetter\", hue=\"Survived\", ax=axes[0])\n",
    "sns.countplot(data=df[df[\"CabinLetter\"]==\"A\"], x=\"CabinNumber\", hue=\"Survived\", ax=axes[1])"
   ]
  },
  {
   "cell_type": "code",
   "execution_count": 20,
   "id": "c6325836",
   "metadata": {
    "execution": {
     "iopub.execute_input": "2024-10-18T23:13:12.905469Z",
     "iopub.status.busy": "2024-10-18T23:13:12.905019Z",
     "iopub.status.idle": "2024-10-18T23:13:12.911049Z",
     "shell.execute_reply": "2024-10-18T23:13:12.909886Z"
    },
    "papermill": {
     "duration": 0.040339,
     "end_time": "2024-10-18T23:13:12.913829",
     "exception": false,
     "start_time": "2024-10-18T23:13:12.873490",
     "status": "completed"
    },
    "tags": []
   },
   "outputs": [],
   "source": [
    "def relatives_class(row):\n",
    "    row[\"Relatives\"]=row[\"SibSp\"]+row[\"Parch\"]\n",
    "    return row"
   ]
  },
  {
   "cell_type": "code",
   "execution_count": 21,
   "id": "32f842cd",
   "metadata": {
    "execution": {
     "iopub.execute_input": "2024-10-18T23:13:12.969823Z",
     "iopub.status.busy": "2024-10-18T23:13:12.969278Z",
     "iopub.status.idle": "2024-10-18T23:13:13.706436Z",
     "shell.execute_reply": "2024-10-18T23:13:13.705104Z"
    },
    "papermill": {
     "duration": 0.768391,
     "end_time": "2024-10-18T23:13:13.709358",
     "exception": false,
     "start_time": "2024-10-18T23:13:12.940967",
     "status": "completed"
    },
    "tags": []
   },
   "outputs": [],
   "source": [
    "df = df.apply(relatives_class,axis=1)"
   ]
  },
  {
   "cell_type": "markdown",
   "id": "f97fda58",
   "metadata": {
    "papermill": {
     "duration": 0.02722,
     "end_time": "2024-10-18T23:13:13.764043",
     "exception": false,
     "start_time": "2024-10-18T23:13:13.736823",
     "status": "completed"
    },
    "tags": []
   },
   "source": [
    "# 4. Exploratory Analysis"
   ]
  },
  {
   "cell_type": "markdown",
   "id": "011d17cc",
   "metadata": {
    "papermill": {
     "duration": 0.028126,
     "end_time": "2024-10-18T23:13:13.819774",
     "exception": false,
     "start_time": "2024-10-18T23:13:13.791648",
     "status": "completed"
    },
    "tags": []
   },
   "source": [
    "Dataset:"
   ]
  },
  {
   "cell_type": "code",
   "execution_count": 22,
   "id": "3e07911a",
   "metadata": {
    "execution": {
     "iopub.execute_input": "2024-10-18T23:13:13.876617Z",
     "iopub.status.busy": "2024-10-18T23:13:13.876199Z",
     "iopub.status.idle": "2024-10-18T23:13:13.905288Z",
     "shell.execute_reply": "2024-10-18T23:13:13.904049Z"
    },
    "papermill": {
     "duration": 0.061162,
     "end_time": "2024-10-18T23:13:13.908126",
     "exception": false,
     "start_time": "2024-10-18T23:13:13.846964",
     "status": "completed"
    },
    "tags": []
   },
   "outputs": [
    {
     "data": {
      "text/html": [
       "<div>\n",
       "<style scoped>\n",
       "    .dataframe tbody tr th:only-of-type {\n",
       "        vertical-align: middle;\n",
       "    }\n",
       "\n",
       "    .dataframe tbody tr th {\n",
       "        vertical-align: top;\n",
       "    }\n",
       "\n",
       "    .dataframe thead th {\n",
       "        text-align: right;\n",
       "    }\n",
       "</style>\n",
       "<table border=\"1\" class=\"dataframe\">\n",
       "  <thead>\n",
       "    <tr style=\"text-align: right;\">\n",
       "      <th></th>\n",
       "      <th>PassengerId</th>\n",
       "      <th>Survived</th>\n",
       "      <th>Pclass</th>\n",
       "      <th>Name</th>\n",
       "      <th>Sex</th>\n",
       "      <th>Age</th>\n",
       "      <th>SibSp</th>\n",
       "      <th>Parch</th>\n",
       "      <th>Ticket</th>\n",
       "      <th>Fare</th>\n",
       "      <th>Cabin</th>\n",
       "      <th>Embarked</th>\n",
       "      <th>AgeClass</th>\n",
       "      <th>Title</th>\n",
       "      <th>CabinLetter</th>\n",
       "      <th>CabinNumber</th>\n",
       "      <th>Relatives</th>\n",
       "    </tr>\n",
       "  </thead>\n",
       "  <tbody>\n",
       "    <tr>\n",
       "      <th>0</th>\n",
       "      <td>1</td>\n",
       "      <td>0</td>\n",
       "      <td>3</td>\n",
       "      <td>Braund, Mr. Owen Harris</td>\n",
       "      <td>male</td>\n",
       "      <td>22.0</td>\n",
       "      <td>1</td>\n",
       "      <td>0</td>\n",
       "      <td>A/5 21171</td>\n",
       "      <td>7.2500</td>\n",
       "      <td>NaN</td>\n",
       "      <td>S</td>\n",
       "      <td>3</td>\n",
       "      <td>2</td>\n",
       "      <td>Unknown</td>\n",
       "      <td>0</td>\n",
       "      <td>1</td>\n",
       "    </tr>\n",
       "    <tr>\n",
       "      <th>1</th>\n",
       "      <td>2</td>\n",
       "      <td>1</td>\n",
       "      <td>1</td>\n",
       "      <td>Cumings, Mrs. John Bradley (Florence Briggs Th...</td>\n",
       "      <td>female</td>\n",
       "      <td>38.0</td>\n",
       "      <td>1</td>\n",
       "      <td>0</td>\n",
       "      <td>PC 17599</td>\n",
       "      <td>71.2833</td>\n",
       "      <td>C85</td>\n",
       "      <td>C</td>\n",
       "      <td>4</td>\n",
       "      <td>4</td>\n",
       "      <td>C</td>\n",
       "      <td>4</td>\n",
       "      <td>1</td>\n",
       "    </tr>\n",
       "    <tr>\n",
       "      <th>2</th>\n",
       "      <td>3</td>\n",
       "      <td>1</td>\n",
       "      <td>3</td>\n",
       "      <td>Heikkinen, Miss. Laina</td>\n",
       "      <td>female</td>\n",
       "      <td>26.0</td>\n",
       "      <td>0</td>\n",
       "      <td>0</td>\n",
       "      <td>STON/O2. 3101282</td>\n",
       "      <td>7.9250</td>\n",
       "      <td>NaN</td>\n",
       "      <td>S</td>\n",
       "      <td>3</td>\n",
       "      <td>3</td>\n",
       "      <td>Unknown</td>\n",
       "      <td>0</td>\n",
       "      <td>0</td>\n",
       "    </tr>\n",
       "    <tr>\n",
       "      <th>3</th>\n",
       "      <td>4</td>\n",
       "      <td>1</td>\n",
       "      <td>1</td>\n",
       "      <td>Futrelle, Mrs. Jacques Heath (Lily May Peel)</td>\n",
       "      <td>female</td>\n",
       "      <td>35.0</td>\n",
       "      <td>1</td>\n",
       "      <td>0</td>\n",
       "      <td>113803</td>\n",
       "      <td>53.1000</td>\n",
       "      <td>C123</td>\n",
       "      <td>S</td>\n",
       "      <td>4</td>\n",
       "      <td>4</td>\n",
       "      <td>C</td>\n",
       "      <td>5</td>\n",
       "      <td>1</td>\n",
       "    </tr>\n",
       "    <tr>\n",
       "      <th>4</th>\n",
       "      <td>5</td>\n",
       "      <td>0</td>\n",
       "      <td>3</td>\n",
       "      <td>Allen, Mr. William Henry</td>\n",
       "      <td>male</td>\n",
       "      <td>35.0</td>\n",
       "      <td>0</td>\n",
       "      <td>0</td>\n",
       "      <td>373450</td>\n",
       "      <td>8.0500</td>\n",
       "      <td>NaN</td>\n",
       "      <td>S</td>\n",
       "      <td>4</td>\n",
       "      <td>2</td>\n",
       "      <td>Unknown</td>\n",
       "      <td>0</td>\n",
       "      <td>0</td>\n",
       "    </tr>\n",
       "    <tr>\n",
       "      <th>...</th>\n",
       "      <td>...</td>\n",
       "      <td>...</td>\n",
       "      <td>...</td>\n",
       "      <td>...</td>\n",
       "      <td>...</td>\n",
       "      <td>...</td>\n",
       "      <td>...</td>\n",
       "      <td>...</td>\n",
       "      <td>...</td>\n",
       "      <td>...</td>\n",
       "      <td>...</td>\n",
       "      <td>...</td>\n",
       "      <td>...</td>\n",
       "      <td>...</td>\n",
       "      <td>...</td>\n",
       "      <td>...</td>\n",
       "      <td>...</td>\n",
       "    </tr>\n",
       "    <tr>\n",
       "      <th>886</th>\n",
       "      <td>887</td>\n",
       "      <td>0</td>\n",
       "      <td>2</td>\n",
       "      <td>Montvila, Rev. Juozas</td>\n",
       "      <td>male</td>\n",
       "      <td>27.0</td>\n",
       "      <td>0</td>\n",
       "      <td>0</td>\n",
       "      <td>211536</td>\n",
       "      <td>13.0000</td>\n",
       "      <td>NaN</td>\n",
       "      <td>S</td>\n",
       "      <td>3</td>\n",
       "      <td>5</td>\n",
       "      <td>Unknown</td>\n",
       "      <td>0</td>\n",
       "      <td>0</td>\n",
       "    </tr>\n",
       "    <tr>\n",
       "      <th>887</th>\n",
       "      <td>888</td>\n",
       "      <td>1</td>\n",
       "      <td>1</td>\n",
       "      <td>Graham, Miss. Margaret Edith</td>\n",
       "      <td>female</td>\n",
       "      <td>19.0</td>\n",
       "      <td>0</td>\n",
       "      <td>0</td>\n",
       "      <td>112053</td>\n",
       "      <td>30.0000</td>\n",
       "      <td>B42</td>\n",
       "      <td>S</td>\n",
       "      <td>2</td>\n",
       "      <td>3</td>\n",
       "      <td>B</td>\n",
       "      <td>2</td>\n",
       "      <td>0</td>\n",
       "    </tr>\n",
       "    <tr>\n",
       "      <th>888</th>\n",
       "      <td>889</td>\n",
       "      <td>0</td>\n",
       "      <td>3</td>\n",
       "      <td>Johnston, Miss. Catherine Helen \"Carrie\"</td>\n",
       "      <td>female</td>\n",
       "      <td>NaN</td>\n",
       "      <td>1</td>\n",
       "      <td>2</td>\n",
       "      <td>W./C. 6607</td>\n",
       "      <td>23.4500</td>\n",
       "      <td>NaN</td>\n",
       "      <td>S</td>\n",
       "      <td>7</td>\n",
       "      <td>3</td>\n",
       "      <td>Unknown</td>\n",
       "      <td>0</td>\n",
       "      <td>3</td>\n",
       "    </tr>\n",
       "    <tr>\n",
       "      <th>889</th>\n",
       "      <td>890</td>\n",
       "      <td>1</td>\n",
       "      <td>1</td>\n",
       "      <td>Behr, Mr. Karl Howell</td>\n",
       "      <td>male</td>\n",
       "      <td>26.0</td>\n",
       "      <td>0</td>\n",
       "      <td>0</td>\n",
       "      <td>111369</td>\n",
       "      <td>30.0000</td>\n",
       "      <td>C148</td>\n",
       "      <td>C</td>\n",
       "      <td>3</td>\n",
       "      <td>2</td>\n",
       "      <td>C</td>\n",
       "      <td>6</td>\n",
       "      <td>0</td>\n",
       "    </tr>\n",
       "    <tr>\n",
       "      <th>890</th>\n",
       "      <td>891</td>\n",
       "      <td>0</td>\n",
       "      <td>3</td>\n",
       "      <td>Dooley, Mr. Patrick</td>\n",
       "      <td>male</td>\n",
       "      <td>32.0</td>\n",
       "      <td>0</td>\n",
       "      <td>0</td>\n",
       "      <td>370376</td>\n",
       "      <td>7.7500</td>\n",
       "      <td>NaN</td>\n",
       "      <td>Q</td>\n",
       "      <td>4</td>\n",
       "      <td>2</td>\n",
       "      <td>Unknown</td>\n",
       "      <td>0</td>\n",
       "      <td>0</td>\n",
       "    </tr>\n",
       "  </tbody>\n",
       "</table>\n",
       "<p>891 rows × 17 columns</p>\n",
       "</div>"
      ],
      "text/plain": [
       "     PassengerId  Survived  Pclass  \\\n",
       "0              1         0       3   \n",
       "1              2         1       1   \n",
       "2              3         1       3   \n",
       "3              4         1       1   \n",
       "4              5         0       3   \n",
       "..           ...       ...     ...   \n",
       "886          887         0       2   \n",
       "887          888         1       1   \n",
       "888          889         0       3   \n",
       "889          890         1       1   \n",
       "890          891         0       3   \n",
       "\n",
       "                                                  Name     Sex   Age  SibSp  \\\n",
       "0                              Braund, Mr. Owen Harris    male  22.0      1   \n",
       "1    Cumings, Mrs. John Bradley (Florence Briggs Th...  female  38.0      1   \n",
       "2                               Heikkinen, Miss. Laina  female  26.0      0   \n",
       "3         Futrelle, Mrs. Jacques Heath (Lily May Peel)  female  35.0      1   \n",
       "4                             Allen, Mr. William Henry    male  35.0      0   \n",
       "..                                                 ...     ...   ...    ...   \n",
       "886                              Montvila, Rev. Juozas    male  27.0      0   \n",
       "887                       Graham, Miss. Margaret Edith  female  19.0      0   \n",
       "888           Johnston, Miss. Catherine Helen \"Carrie\"  female   NaN      1   \n",
       "889                              Behr, Mr. Karl Howell    male  26.0      0   \n",
       "890                                Dooley, Mr. Patrick    male  32.0      0   \n",
       "\n",
       "     Parch            Ticket     Fare Cabin Embarked  AgeClass  Title  \\\n",
       "0        0         A/5 21171   7.2500   NaN        S         3      2   \n",
       "1        0          PC 17599  71.2833   C85        C         4      4   \n",
       "2        0  STON/O2. 3101282   7.9250   NaN        S         3      3   \n",
       "3        0            113803  53.1000  C123        S         4      4   \n",
       "4        0            373450   8.0500   NaN        S         4      2   \n",
       "..     ...               ...      ...   ...      ...       ...    ...   \n",
       "886      0            211536  13.0000   NaN        S         3      5   \n",
       "887      0            112053  30.0000   B42        S         2      3   \n",
       "888      2        W./C. 6607  23.4500   NaN        S         7      3   \n",
       "889      0            111369  30.0000  C148        C         3      2   \n",
       "890      0            370376   7.7500   NaN        Q         4      2   \n",
       "\n",
       "    CabinLetter  CabinNumber  Relatives  \n",
       "0       Unknown            0          1  \n",
       "1             C            4          1  \n",
       "2       Unknown            0          0  \n",
       "3             C            5          1  \n",
       "4       Unknown            0          0  \n",
       "..          ...          ...        ...  \n",
       "886     Unknown            0          0  \n",
       "887           B            2          0  \n",
       "888     Unknown            0          3  \n",
       "889           C            6          0  \n",
       "890     Unknown            0          0  \n",
       "\n",
       "[891 rows x 17 columns]"
      ]
     },
     "execution_count": 22,
     "metadata": {},
     "output_type": "execute_result"
    }
   ],
   "source": [
    "df"
   ]
  },
  {
   "cell_type": "markdown",
   "id": "dcd0638e",
   "metadata": {
    "papermill": {
     "duration": 0.028556,
     "end_time": "2024-10-18T23:13:13.965127",
     "exception": false,
     "start_time": "2024-10-18T23:13:13.936571",
     "status": "completed"
    },
    "tags": []
   },
   "source": [
    "## Sex x Survivors"
   ]
  },
  {
   "cell_type": "code",
   "execution_count": 23,
   "id": "db6820c9",
   "metadata": {
    "execution": {
     "iopub.execute_input": "2024-10-18T23:13:14.024078Z",
     "iopub.status.busy": "2024-10-18T23:13:14.023430Z",
     "iopub.status.idle": "2024-10-18T23:13:14.321985Z",
     "shell.execute_reply": "2024-10-18T23:13:14.320673Z"
    },
    "papermill": {
     "duration": 0.331839,
     "end_time": "2024-10-18T23:13:14.324672",
     "exception": false,
     "start_time": "2024-10-18T23:13:13.992833",
     "status": "completed"
    },
    "tags": []
   },
   "outputs": [
    {
     "data": {
      "image/png": "[encoded data removed]",
      "text/plain": [
       "<Figure size 640x480 with 1 Axes>"
      ]
     },
     "metadata": {},
     "output_type": "display_data"
    }
   ],
   "source": [
    "ax = sns.countplot(data=df, x=\"Sex\", hue=\"Survived\")\n",
    "\n",
    "for cont in ax.containers:\n",
    "    ax.bar_label(cont)"
   ]
  },
  {
   "cell_type": "markdown",
   "id": "f07394ec",
   "metadata": {
    "papermill": {
     "duration": 0.028671,
     "end_time": "2024-10-18T23:13:14.381501",
     "exception": false,
     "start_time": "2024-10-18T23:13:14.352830",
     "status": "completed"
    },
    "tags": []
   },
   "source": [
    "**Notes:**\n",
    "- Majority of survivors are women, even though there were more men on the ship."
   ]
  },
  {
   "cell_type": "markdown",
   "id": "62e6c835",
   "metadata": {
    "papermill": {
     "duration": 0.027762,
     "end_time": "2024-10-18T23:13:14.438354",
     "exception": false,
     "start_time": "2024-10-18T23:13:14.410592",
     "status": "completed"
    },
    "tags": []
   },
   "source": [
    "## Pclass x Survivors"
   ]
  },
  {
   "cell_type": "code",
   "execution_count": 24,
   "id": "bcff0327",
   "metadata": {
    "execution": {
     "iopub.execute_input": "2024-10-18T23:13:14.497102Z",
     "iopub.status.busy": "2024-10-18T23:13:14.496639Z",
     "iopub.status.idle": "2024-10-18T23:13:14.805159Z",
     "shell.execute_reply": "2024-10-18T23:13:14.803738Z"
    },
    "papermill": {
     "duration": 0.341816,
     "end_time": "2024-10-18T23:13:14.808329",
     "exception": false,
     "start_time": "2024-10-18T23:13:14.466513",
     "status": "completed"
    },
    "tags": []
   },
   "outputs": [
    {
     "data": {
      "text/plain": [
       "<Axes: xlabel='Pclass', ylabel='count'>"
      ]
     },
     "execution_count": 24,
     "metadata": {},
     "output_type": "execute_result"
    },
    {
     "data": {
      "image/png": "[encoded data removed]",
      "text/plain": [
       "<Figure size 640x480 with 1 Axes>"
      ]
     },
     "metadata": {},
     "output_type": "display_data"
    }
   ],
   "source": [
    "sns.countplot(data=df, x=\"Pclass\", hue=\"Survived\")"
   ]
  },
  {
   "cell_type": "markdown",
   "id": "5872614f",
   "metadata": {
    "papermill": {
     "duration": 0.029179,
     "end_time": "2024-10-18T23:13:14.867845",
     "exception": false,
     "start_time": "2024-10-18T23:13:14.838666",
     "status": "completed"
    },
    "tags": []
   },
   "source": [
    "**Notes:**\n",
    "- Most of the survivors are from first class.\n",
    "- The ratio of survivors from first class is much higher than that of passengers from second and third class.\n",
    "- The survival ratio of third-class passengers is very low."
   ]
  },
  {
   "cell_type": "markdown",
   "id": "eb05f894",
   "metadata": {
    "papermill": {
     "duration": 0.028107,
     "end_time": "2024-10-18T23:13:14.925739",
     "exception": false,
     "start_time": "2024-10-18T23:13:14.897632",
     "status": "completed"
    },
    "tags": []
   },
   "source": [
    "## Embarked x Survivors"
   ]
  },
  {
   "cell_type": "code",
   "execution_count": 25,
   "id": "49cc23c2",
   "metadata": {
    "execution": {
     "iopub.execute_input": "2024-10-18T23:13:14.984986Z",
     "iopub.status.busy": "2024-10-18T23:13:14.983839Z",
     "iopub.status.idle": "2024-10-18T23:13:15.499578Z",
     "shell.execute_reply": "2024-10-18T23:13:15.497833Z"
    },
    "papermill": {
     "duration": 0.548456,
     "end_time": "2024-10-18T23:13:15.502516",
     "exception": false,
     "start_time": "2024-10-18T23:13:14.954060",
     "status": "completed"
    },
    "tags": []
   },
   "outputs": [
    {
     "data": {
      "text/plain": [
       "<Axes: xlabel='Embarked', ylabel='count'>"
      ]
     },
     "execution_count": 25,
     "metadata": {},
     "output_type": "execute_result"
    },
    {
     "data": {
      "image/png": "[encoded data removed]",
      "text/plain": [
       "<Figure size 1200x500 with 2 Axes>"
      ]
     },
     "metadata": {},
     "output_type": "display_data"
    }
   ],
   "source": [
    "fig, axes = plt.subplots(ncols=2, nrows=1, figsize=(12,5))\n",
    "sns.countplot(data=df, x=\"Embarked\", hue=\"Survived\", ax=axes[0])\n",
    "sns.countplot(data=df, x=\"Embarked\", hue=\"Pclass\", ax=axes[1])"
   ]
  },
  {
   "cell_type": "markdown",
   "id": "1520a7fe",
   "metadata": {
    "papermill": {
     "duration": 0.029615,
     "end_time": "2024-10-18T23:13:15.563070",
     "exception": false,
     "start_time": "2024-10-18T23:13:15.533455",
     "status": "completed"
    },
    "tags": []
   },
   "source": [
    "**Notes:**\n",
    "- Most of the passengers are from Southampton. Most of them died.\n",
    "- As we can see in the second graph, most of them were from third class (which can explain the high death rate).\n",
    "- Even though most passengers from Queenstown were in third class, their survival rate was considerably balanced."
   ]
  },
  {
   "cell_type": "markdown",
   "id": "f37dbb14",
   "metadata": {
    "papermill": {
     "duration": 0.028671,
     "end_time": "2024-10-18T23:13:15.620952",
     "exception": false,
     "start_time": "2024-10-18T23:13:15.592281",
     "status": "completed"
    },
    "tags": []
   },
   "source": [
    "## Age x Survivors"
   ]
  },
  {
   "cell_type": "code",
   "execution_count": 26,
   "id": "01c860bf",
   "metadata": {
    "execution": {
     "iopub.execute_input": "2024-10-18T23:13:15.682219Z",
     "iopub.status.busy": "2024-10-18T23:13:15.681775Z",
     "iopub.status.idle": "2024-10-18T23:13:16.009996Z",
     "shell.execute_reply": "2024-10-18T23:13:16.008492Z"
    },
    "papermill": {
     "duration": 0.362195,
     "end_time": "2024-10-18T23:13:16.012650",
     "exception": false,
     "start_time": "2024-10-18T23:13:15.650455",
     "status": "completed"
    },
    "tags": []
   },
   "outputs": [
    {
     "data": {
      "text/plain": [
       "<Axes: xlabel='Age', ylabel='Count'>"
      ]
     },
     "execution_count": 26,
     "metadata": {},
     "output_type": "execute_result"
    },
    {
     "data": {
      "image/png": "[encoded data removed]",
      "text/plain": [
       "<Figure size 640x480 with 1 Axes>"
      ]
     },
     "metadata": {},
     "output_type": "display_data"
    }
   ],
   "source": [
    "sns.histplot(x=df[\"Age\"], hue=df[\"Survived\"], element=\"step\",bins=8)"
   ]
  },
  {
   "cell_type": "markdown",
   "id": "0c243ef0",
   "metadata": {
    "papermill": {
     "duration": 0.033998,
     "end_time": "2024-10-18T23:13:16.076759",
     "exception": false,
     "start_time": "2024-10-18T23:13:16.042761",
     "status": "completed"
    },
    "tags": []
   },
   "source": [
    "**Notes**:\n",
    "- The kids (age <= 10) had the highest survival rate.\n",
    "- The kids were the only group where more survived than died."
   ]
  },
  {
   "cell_type": "markdown",
   "id": "86d1e445",
   "metadata": {
    "papermill": {
     "duration": 0.029613,
     "end_time": "2024-10-18T23:13:16.136816",
     "exception": false,
     "start_time": "2024-10-18T23:13:16.107203",
     "status": "completed"
    },
    "tags": []
   },
   "source": [
    "## Title x Survivors"
   ]
  },
  {
   "cell_type": "code",
   "execution_count": 27,
   "id": "71a3c864",
   "metadata": {
    "execution": {
     "iopub.execute_input": "2024-10-18T23:13:16.198290Z",
     "iopub.status.busy": "2024-10-18T23:13:16.197801Z",
     "iopub.status.idle": "2024-10-18T23:13:16.450186Z",
     "shell.execute_reply": "2024-10-18T23:13:16.448765Z"
    },
    "papermill": {
     "duration": 0.286683,
     "end_time": "2024-10-18T23:13:16.453312",
     "exception": false,
     "start_time": "2024-10-18T23:13:16.166629",
     "status": "completed"
    },
    "tags": []
   },
   "outputs": [
    {
     "data": {
      "image/png": "[encoded data removed]",
      "text/plain": [
       "<Figure size 640x480 with 1 Axes>"
      ]
     },
     "metadata": {},
     "output_type": "display_data"
    }
   ],
   "source": [
    "ax = sns.countplot(data=df, x=\"Title\", hue=\"Survived\")"
   ]
  },
  {
   "cell_type": "markdown",
   "id": "54cffbc6",
   "metadata": {
    "papermill": {
     "duration": 0.030577,
     "end_time": "2024-10-18T23:13:16.514279",
     "exception": false,
     "start_time": "2024-10-18T23:13:16.483702",
     "status": "completed"
    },
    "tags": []
   },
   "source": [
    "**Notes:**\n",
    "- Women and kids are more likely to survive.\n",
    "- Most of the men died."
   ]
  },
  {
   "cell_type": "markdown",
   "id": "12560499",
   "metadata": {
    "papermill": {
     "duration": 0.030218,
     "end_time": "2024-10-18T23:13:16.576283",
     "exception": false,
     "start_time": "2024-10-18T23:13:16.546065",
     "status": "completed"
    },
    "tags": []
   },
   "source": [
    "## Relatives x Survivors"
   ]
  },
  {
   "cell_type": "code",
   "execution_count": 28,
   "id": "1623c6f8",
   "metadata": {
    "execution": {
     "iopub.execute_input": "2024-10-18T23:13:16.639234Z",
     "iopub.status.busy": "2024-10-18T23:13:16.638769Z",
     "iopub.status.idle": "2024-10-18T23:13:17.031121Z",
     "shell.execute_reply": "2024-10-18T23:13:17.028978Z"
    },
    "papermill": {
     "duration": 0.427774,
     "end_time": "2024-10-18T23:13:17.034815",
     "exception": false,
     "start_time": "2024-10-18T23:13:16.607041",
     "status": "completed"
    },
    "tags": []
   },
   "outputs": [
    {
     "data": {
      "image/png": "[encoded data removed]",
      "text/plain": [
       "<Figure size 640x480 with 1 Axes>"
      ]
     },
     "metadata": {},
     "output_type": "display_data"
    }
   ],
   "source": [
    "ax= sns.countplot(data=df, x=\"Relatives\", hue=df[\"Survived\"])"
   ]
  },
  {
   "cell_type": "markdown",
   "id": "fb58a1bf",
   "metadata": {
    "papermill": {
     "duration": 0.030085,
     "end_time": "2024-10-18T23:13:17.095764",
     "exception": false,
     "start_time": "2024-10-18T23:13:17.065679",
     "status": "completed"
    },
    "tags": []
   },
   "source": [
    "**Notes**:\n",
    "- Passengers who were with 1, 2, or 3 relatives on the ship were more likely to survive."
   ]
  },
  {
   "cell_type": "markdown",
   "id": "5cf1e986",
   "metadata": {
    "papermill": {
     "duration": 0.030493,
     "end_time": "2024-10-18T23:13:17.156948",
     "exception": false,
     "start_time": "2024-10-18T23:13:17.126455",
     "status": "completed"
    },
    "tags": []
   },
   "source": [
    "## Cabin x Survivors"
   ]
  },
  {
   "cell_type": "code",
   "execution_count": 29,
   "id": "3c302fce",
   "metadata": {
    "execution": {
     "iopub.execute_input": "2024-10-18T23:13:17.221926Z",
     "iopub.status.busy": "2024-10-18T23:13:17.221421Z",
     "iopub.status.idle": "2024-10-18T23:13:18.096957Z",
     "shell.execute_reply": "2024-10-18T23:13:18.095607Z"
    },
    "papermill": {
     "duration": 0.910815,
     "end_time": "2024-10-18T23:13:18.099836",
     "exception": false,
     "start_time": "2024-10-18T23:13:17.189021",
     "status": "completed"
    },
    "tags": []
   },
   "outputs": [
    {
     "data": {
      "text/plain": [
       "Text(627.9949494949494, 0.5, 'Cabin numbers')"
      ]
     },
     "execution_count": 29,
     "metadata": {},
     "output_type": "execute_result"
    },
    {
     "data": {
      "image/png": "[encoded data removed]",
      "text/plain": [
       "<Figure size 1200x500 with 3 Axes>"
      ]
     },
     "metadata": {},
     "output_type": "display_data"
    }
   ],
   "source": [
    "fig, axes = plt.subplots(ncols=2, nrows=1, figsize=(12, 5))\n",
    "\n",
    "sns.countplot(data=df, x=\"CabinLetter\", hue=\"Survived\", ax=axes[0])\n",
    "sns.heatmap(df.groupby(['CabinNumber', 'CabinLetter'])['Survived'].mean().unstack(),\n",
    "            annot=True, cmap=\"coolwarm\", ax=axes[1], cbar_kws={'label': 'Survivors ratio'})\n",
    "\n",
    "axes[1].set_xlabel(\"Cabin letters\")\n",
    "axes[1].set_ylabel(\"Cabin numbers\")"
   ]
  },
  {
   "cell_type": "markdown",
   "id": "2da2a351",
   "metadata": {
    "papermill": {
     "duration": 0.033981,
     "end_time": "2024-10-18T23:13:18.166520",
     "exception": false,
     "start_time": "2024-10-18T23:13:18.132539",
     "status": "completed"
    },
    "tags": []
   },
   "source": [
    "**Notes:**\n",
    "- Cabins E, B and D have a considerable surviving rate.\n",
    "- Most passengers whose cabin is unknown died."
   ]
  },
  {
   "cell_type": "code",
   "execution_count": 30,
   "id": "6d051220",
   "metadata": {
    "execution": {
     "iopub.execute_input": "2024-10-18T23:13:18.233135Z",
     "iopub.status.busy": "2024-10-18T23:13:18.232663Z",
     "iopub.status.idle": "2024-10-18T23:13:18.280269Z",
     "shell.execute_reply": "2024-10-18T23:13:18.278565Z"
    },
    "papermill": {
     "duration": 0.084952,
     "end_time": "2024-10-18T23:13:18.283126",
     "exception": false,
     "start_time": "2024-10-18T23:13:18.198174",
     "status": "completed"
    },
    "tags": []
   },
   "outputs": [
    {
     "data": {
      "text/html": [
       "<div>\n",
       "<style scoped>\n",
       "    .dataframe tbody tr th:only-of-type {\n",
       "        vertical-align: middle;\n",
       "    }\n",
       "\n",
       "    .dataframe tbody tr th {\n",
       "        vertical-align: top;\n",
       "    }\n",
       "\n",
       "    .dataframe thead th {\n",
       "        text-align: right;\n",
       "    }\n",
       "</style>\n",
       "<table border=\"1\" class=\"dataframe\">\n",
       "  <thead>\n",
       "    <tr style=\"text-align: right;\">\n",
       "      <th></th>\n",
       "      <th>PassengerId</th>\n",
       "      <th>Survived</th>\n",
       "      <th>Pclass</th>\n",
       "      <th>Age</th>\n",
       "      <th>SibSp</th>\n",
       "      <th>Parch</th>\n",
       "      <th>Fare</th>\n",
       "      <th>AgeClass</th>\n",
       "      <th>Title</th>\n",
       "      <th>CabinNumber</th>\n",
       "      <th>Relatives</th>\n",
       "    </tr>\n",
       "  </thead>\n",
       "  <tbody>\n",
       "    <tr>\n",
       "      <th>count</th>\n",
       "      <td>891.000000</td>\n",
       "      <td>891.000000</td>\n",
       "      <td>891.000000</td>\n",
       "      <td>714.000000</td>\n",
       "      <td>891.000000</td>\n",
       "      <td>891.000000</td>\n",
       "      <td>891.000000</td>\n",
       "      <td>891.000000</td>\n",
       "      <td>891.000000</td>\n",
       "      <td>891.000000</td>\n",
       "      <td>891.000000</td>\n",
       "    </tr>\n",
       "    <tr>\n",
       "      <th>mean</th>\n",
       "      <td>446.000000</td>\n",
       "      <td>0.383838</td>\n",
       "      <td>2.308642</td>\n",
       "      <td>29.699118</td>\n",
       "      <td>0.523008</td>\n",
       "      <td>0.381594</td>\n",
       "      <td>32.204208</td>\n",
       "      <td>3.996633</td>\n",
       "      <td>2.528620</td>\n",
       "      <td>0.579125</td>\n",
       "      <td>0.904602</td>\n",
       "    </tr>\n",
       "    <tr>\n",
       "      <th>std</th>\n",
       "      <td>257.353842</td>\n",
       "      <td>0.486592</td>\n",
       "      <td>0.836071</td>\n",
       "      <td>14.526497</td>\n",
       "      <td>1.102743</td>\n",
       "      <td>0.806057</td>\n",
       "      <td>49.693429</td>\n",
       "      <td>1.888757</td>\n",
       "      <td>0.890663</td>\n",
       "      <td>1.264543</td>\n",
       "      <td>1.613459</td>\n",
       "    </tr>\n",
       "    <tr>\n",
       "      <th>min</th>\n",
       "      <td>1.000000</td>\n",
       "      <td>0.000000</td>\n",
       "      <td>1.000000</td>\n",
       "      <td>0.420000</td>\n",
       "      <td>0.000000</td>\n",
       "      <td>0.000000</td>\n",
       "      <td>0.000000</td>\n",
       "      <td>1.000000</td>\n",
       "      <td>1.000000</td>\n",
       "      <td>0.000000</td>\n",
       "      <td>0.000000</td>\n",
       "    </tr>\n",
       "    <tr>\n",
       "      <th>25%</th>\n",
       "      <td>223.500000</td>\n",
       "      <td>0.000000</td>\n",
       "      <td>2.000000</td>\n",
       "      <td>20.125000</td>\n",
       "      <td>0.000000</td>\n",
       "      <td>0.000000</td>\n",
       "      <td>7.910400</td>\n",
       "      <td>3.000000</td>\n",
       "      <td>2.000000</td>\n",
       "      <td>0.000000</td>\n",
       "      <td>0.000000</td>\n",
       "    </tr>\n",
       "    <tr>\n",
       "      <th>50%</th>\n",
       "      <td>446.000000</td>\n",
       "      <td>0.000000</td>\n",
       "      <td>3.000000</td>\n",
       "      <td>28.000000</td>\n",
       "      <td>0.000000</td>\n",
       "      <td>0.000000</td>\n",
       "      <td>14.454200</td>\n",
       "      <td>4.000000</td>\n",
       "      <td>2.000000</td>\n",
       "      <td>0.000000</td>\n",
       "      <td>0.000000</td>\n",
       "    </tr>\n",
       "    <tr>\n",
       "      <th>75%</th>\n",
       "      <td>668.500000</td>\n",
       "      <td>1.000000</td>\n",
       "      <td>3.000000</td>\n",
       "      <td>38.000000</td>\n",
       "      <td>1.000000</td>\n",
       "      <td>0.000000</td>\n",
       "      <td>31.000000</td>\n",
       "      <td>5.000000</td>\n",
       "      <td>3.000000</td>\n",
       "      <td>0.000000</td>\n",
       "      <td>1.000000</td>\n",
       "    </tr>\n",
       "    <tr>\n",
       "      <th>max</th>\n",
       "      <td>891.000000</td>\n",
       "      <td>1.000000</td>\n",
       "      <td>3.000000</td>\n",
       "      <td>80.000000</td>\n",
       "      <td>8.000000</td>\n",
       "      <td>6.000000</td>\n",
       "      <td>512.329200</td>\n",
       "      <td>7.000000</td>\n",
       "      <td>5.000000</td>\n",
       "      <td>6.000000</td>\n",
       "      <td>10.000000</td>\n",
       "    </tr>\n",
       "  </tbody>\n",
       "</table>\n",
       "</div>"
      ],
      "text/plain": [
       "       PassengerId    Survived      Pclass         Age       SibSp  \\\n",
       "count   891.000000  891.000000  891.000000  714.000000  891.000000   \n",
       "mean    446.000000    0.383838    2.308642   29.699118    0.523008   \n",
       "std     257.353842    0.486592    0.836071   14.526497    1.102743   \n",
       "min       1.000000    0.000000    1.000000    0.420000    0.000000   \n",
       "25%     223.500000    0.000000    2.000000   20.125000    0.000000   \n",
       "50%     446.000000    0.000000    3.000000   28.000000    0.000000   \n",
       "75%     668.500000    1.000000    3.000000   38.000000    1.000000   \n",
       "max     891.000000    1.000000    3.000000   80.000000    8.000000   \n",
       "\n",
       "            Parch        Fare    AgeClass       Title  CabinNumber   Relatives  \n",
       "count  891.000000  891.000000  891.000000  891.000000   891.000000  891.000000  \n",
       "mean     0.381594   32.204208    3.996633    2.528620     0.579125    0.904602  \n",
       "std      0.806057   49.693429    1.888757    0.890663     1.264543    1.613459  \n",
       "min      0.000000    0.000000    1.000000    1.000000     0.000000    0.000000  \n",
       "25%      0.000000    7.910400    3.000000    2.000000     0.000000    0.000000  \n",
       "50%      0.000000   14.454200    4.000000    2.000000     0.000000    0.000000  \n",
       "75%      0.000000   31.000000    5.000000    3.000000     0.000000    1.000000  \n",
       "max      6.000000  512.329200    7.000000    5.000000     6.000000   10.000000  "
      ]
     },
     "execution_count": 30,
     "metadata": {},
     "output_type": "execute_result"
    }
   ],
   "source": [
    "df.describe()"
   ]
  },
  {
   "cell_type": "code",
   "execution_count": 31,
   "id": "5e30b6a9",
   "metadata": {
    "execution": {
     "iopub.execute_input": "2024-10-18T23:13:18.348566Z",
     "iopub.status.busy": "2024-10-18T23:13:18.348168Z",
     "iopub.status.idle": "2024-10-18T23:13:18.363242Z",
     "shell.execute_reply": "2024-10-18T23:13:18.361906Z"
    },
    "papermill": {
     "duration": 0.051535,
     "end_time": "2024-10-18T23:13:18.366695",
     "exception": false,
     "start_time": "2024-10-18T23:13:18.315160",
     "status": "completed"
    },
    "tags": []
   },
   "outputs": [
    {
     "name": "stdout",
     "output_type": "stream",
     "text": [
      "<class 'pandas.core.frame.DataFrame'>\n",
      "RangeIndex: 891 entries, 0 to 890\n",
      "Data columns (total 17 columns):\n",
      " #   Column       Non-Null Count  Dtype  \n",
      "---  ------       --------------  -----  \n",
      " 0   PassengerId  891 non-null    int64  \n",
      " 1   Survived     891 non-null    int64  \n",
      " 2   Pclass       891 non-null    int64  \n",
      " 3   Name         891 non-null    object \n",
      " 4   Sex          891 non-null    object \n",
      " 5   Age          714 non-null    float64\n",
      " 6   SibSp        891 non-null    int64  \n",
      " 7   Parch        891 non-null    int64  \n",
      " 8   Ticket       891 non-null    object \n",
      " 9   Fare         891 non-null    float64\n",
      " 10  Cabin        204 non-null    object \n",
      " 11  Embarked     889 non-null    object \n",
      " 12  AgeClass     891 non-null    int64  \n",
      " 13  Title        891 non-null    int64  \n",
      " 14  CabinLetter  891 non-null    object \n",
      " 15  CabinNumber  891 non-null    int64  \n",
      " 16  Relatives    891 non-null    int64  \n",
      "dtypes: float64(2), int64(9), object(6)\n",
      "memory usage: 118.5+ KB\n"
     ]
    }
   ],
   "source": [
    "df.info()"
   ]
  },
  {
   "cell_type": "code",
   "execution_count": 32,
   "id": "aa783d74",
   "metadata": {
    "execution": {
     "iopub.execute_input": "2024-10-18T23:13:18.432135Z",
     "iopub.status.busy": "2024-10-18T23:13:18.431668Z",
     "iopub.status.idle": "2024-10-18T23:13:18.461190Z",
     "shell.execute_reply": "2024-10-18T23:13:18.459889Z"
    },
    "papermill": {
     "duration": 0.065196,
     "end_time": "2024-10-18T23:13:18.463896",
     "exception": false,
     "start_time": "2024-10-18T23:13:18.398700",
     "status": "completed"
    },
    "tags": []
   },
   "outputs": [
    {
     "data": {
      "text/html": [
       "<div>\n",
       "<style scoped>\n",
       "    .dataframe tbody tr th:only-of-type {\n",
       "        vertical-align: middle;\n",
       "    }\n",
       "\n",
       "    .dataframe tbody tr th {\n",
       "        vertical-align: top;\n",
       "    }\n",
       "\n",
       "    .dataframe thead th {\n",
       "        text-align: right;\n",
       "    }\n",
       "</style>\n",
       "<table border=\"1\" class=\"dataframe\">\n",
       "  <thead>\n",
       "    <tr style=\"text-align: right;\">\n",
       "      <th></th>\n",
       "      <th>PassengerId</th>\n",
       "      <th>Survived</th>\n",
       "      <th>Pclass</th>\n",
       "      <th>Name</th>\n",
       "      <th>Sex</th>\n",
       "      <th>Age</th>\n",
       "      <th>SibSp</th>\n",
       "      <th>Parch</th>\n",
       "      <th>Ticket</th>\n",
       "      <th>Fare</th>\n",
       "      <th>Cabin</th>\n",
       "      <th>Embarked</th>\n",
       "      <th>AgeClass</th>\n",
       "      <th>Title</th>\n",
       "      <th>CabinLetter</th>\n",
       "      <th>CabinNumber</th>\n",
       "      <th>Relatives</th>\n",
       "    </tr>\n",
       "  </thead>\n",
       "  <tbody>\n",
       "    <tr>\n",
       "      <th>0</th>\n",
       "      <td>1</td>\n",
       "      <td>0</td>\n",
       "      <td>3</td>\n",
       "      <td>Braund, Mr. Owen Harris</td>\n",
       "      <td>male</td>\n",
       "      <td>22.0</td>\n",
       "      <td>1</td>\n",
       "      <td>0</td>\n",
       "      <td>A/5 21171</td>\n",
       "      <td>7.2500</td>\n",
       "      <td>NaN</td>\n",
       "      <td>S</td>\n",
       "      <td>3</td>\n",
       "      <td>2</td>\n",
       "      <td>Unknown</td>\n",
       "      <td>0</td>\n",
       "      <td>1</td>\n",
       "    </tr>\n",
       "    <tr>\n",
       "      <th>1</th>\n",
       "      <td>2</td>\n",
       "      <td>1</td>\n",
       "      <td>1</td>\n",
       "      <td>Cumings, Mrs. John Bradley (Florence Briggs Th...</td>\n",
       "      <td>female</td>\n",
       "      <td>38.0</td>\n",
       "      <td>1</td>\n",
       "      <td>0</td>\n",
       "      <td>PC 17599</td>\n",
       "      <td>71.2833</td>\n",
       "      <td>C85</td>\n",
       "      <td>C</td>\n",
       "      <td>4</td>\n",
       "      <td>4</td>\n",
       "      <td>C</td>\n",
       "      <td>4</td>\n",
       "      <td>1</td>\n",
       "    </tr>\n",
       "    <tr>\n",
       "      <th>2</th>\n",
       "      <td>3</td>\n",
       "      <td>1</td>\n",
       "      <td>3</td>\n",
       "      <td>Heikkinen, Miss. Laina</td>\n",
       "      <td>female</td>\n",
       "      <td>26.0</td>\n",
       "      <td>0</td>\n",
       "      <td>0</td>\n",
       "      <td>STON/O2. 3101282</td>\n",
       "      <td>7.9250</td>\n",
       "      <td>NaN</td>\n",
       "      <td>S</td>\n",
       "      <td>3</td>\n",
       "      <td>3</td>\n",
       "      <td>Unknown</td>\n",
       "      <td>0</td>\n",
       "      <td>0</td>\n",
       "    </tr>\n",
       "    <tr>\n",
       "      <th>3</th>\n",
       "      <td>4</td>\n",
       "      <td>1</td>\n",
       "      <td>1</td>\n",
       "      <td>Futrelle, Mrs. Jacques Heath (Lily May Peel)</td>\n",
       "      <td>female</td>\n",
       "      <td>35.0</td>\n",
       "      <td>1</td>\n",
       "      <td>0</td>\n",
       "      <td>113803</td>\n",
       "      <td>53.1000</td>\n",
       "      <td>C123</td>\n",
       "      <td>S</td>\n",
       "      <td>4</td>\n",
       "      <td>4</td>\n",
       "      <td>C</td>\n",
       "      <td>5</td>\n",
       "      <td>1</td>\n",
       "    </tr>\n",
       "    <tr>\n",
       "      <th>4</th>\n",
       "      <td>5</td>\n",
       "      <td>0</td>\n",
       "      <td>3</td>\n",
       "      <td>Allen, Mr. William Henry</td>\n",
       "      <td>male</td>\n",
       "      <td>35.0</td>\n",
       "      <td>0</td>\n",
       "      <td>0</td>\n",
       "      <td>373450</td>\n",
       "      <td>8.0500</td>\n",
       "      <td>NaN</td>\n",
       "      <td>S</td>\n",
       "      <td>4</td>\n",
       "      <td>2</td>\n",
       "      <td>Unknown</td>\n",
       "      <td>0</td>\n",
       "      <td>0</td>\n",
       "    </tr>\n",
       "    <tr>\n",
       "      <th>...</th>\n",
       "      <td>...</td>\n",
       "      <td>...</td>\n",
       "      <td>...</td>\n",
       "      <td>...</td>\n",
       "      <td>...</td>\n",
       "      <td>...</td>\n",
       "      <td>...</td>\n",
       "      <td>...</td>\n",
       "      <td>...</td>\n",
       "      <td>...</td>\n",
       "      <td>...</td>\n",
       "      <td>...</td>\n",
       "      <td>...</td>\n",
       "      <td>...</td>\n",
       "      <td>...</td>\n",
       "      <td>...</td>\n",
       "      <td>...</td>\n",
       "    </tr>\n",
       "    <tr>\n",
       "      <th>886</th>\n",
       "      <td>887</td>\n",
       "      <td>0</td>\n",
       "      <td>2</td>\n",
       "      <td>Montvila, Rev. Juozas</td>\n",
       "      <td>male</td>\n",
       "      <td>27.0</td>\n",
       "      <td>0</td>\n",
       "      <td>0</td>\n",
       "      <td>211536</td>\n",
       "      <td>13.0000</td>\n",
       "      <td>NaN</td>\n",
       "      <td>S</td>\n",
       "      <td>3</td>\n",
       "      <td>5</td>\n",
       "      <td>Unknown</td>\n",
       "      <td>0</td>\n",
       "      <td>0</td>\n",
       "    </tr>\n",
       "    <tr>\n",
       "      <th>887</th>\n",
       "      <td>888</td>\n",
       "      <td>1</td>\n",
       "      <td>1</td>\n",
       "      <td>Graham, Miss. Margaret Edith</td>\n",
       "      <td>female</td>\n",
       "      <td>19.0</td>\n",
       "      <td>0</td>\n",
       "      <td>0</td>\n",
       "      <td>112053</td>\n",
       "      <td>30.0000</td>\n",
       "      <td>B42</td>\n",
       "      <td>S</td>\n",
       "      <td>2</td>\n",
       "      <td>3</td>\n",
       "      <td>B</td>\n",
       "      <td>2</td>\n",
       "      <td>0</td>\n",
       "    </tr>\n",
       "    <tr>\n",
       "      <th>888</th>\n",
       "      <td>889</td>\n",
       "      <td>0</td>\n",
       "      <td>3</td>\n",
       "      <td>Johnston, Miss. Catherine Helen \"Carrie\"</td>\n",
       "      <td>female</td>\n",
       "      <td>NaN</td>\n",
       "      <td>1</td>\n",
       "      <td>2</td>\n",
       "      <td>W./C. 6607</td>\n",
       "      <td>23.4500</td>\n",
       "      <td>NaN</td>\n",
       "      <td>S</td>\n",
       "      <td>7</td>\n",
       "      <td>3</td>\n",
       "      <td>Unknown</td>\n",
       "      <td>0</td>\n",
       "      <td>3</td>\n",
       "    </tr>\n",
       "    <tr>\n",
       "      <th>889</th>\n",
       "      <td>890</td>\n",
       "      <td>1</td>\n",
       "      <td>1</td>\n",
       "      <td>Behr, Mr. Karl Howell</td>\n",
       "      <td>male</td>\n",
       "      <td>26.0</td>\n",
       "      <td>0</td>\n",
       "      <td>0</td>\n",
       "      <td>111369</td>\n",
       "      <td>30.0000</td>\n",
       "      <td>C148</td>\n",
       "      <td>C</td>\n",
       "      <td>3</td>\n",
       "      <td>2</td>\n",
       "      <td>C</td>\n",
       "      <td>6</td>\n",
       "      <td>0</td>\n",
       "    </tr>\n",
       "    <tr>\n",
       "      <th>890</th>\n",
       "      <td>891</td>\n",
       "      <td>0</td>\n",
       "      <td>3</td>\n",
       "      <td>Dooley, Mr. Patrick</td>\n",
       "      <td>male</td>\n",
       "      <td>32.0</td>\n",
       "      <td>0</td>\n",
       "      <td>0</td>\n",
       "      <td>370376</td>\n",
       "      <td>7.7500</td>\n",
       "      <td>NaN</td>\n",
       "      <td>Q</td>\n",
       "      <td>4</td>\n",
       "      <td>2</td>\n",
       "      <td>Unknown</td>\n",
       "      <td>0</td>\n",
       "      <td>0</td>\n",
       "    </tr>\n",
       "  </tbody>\n",
       "</table>\n",
       "<p>891 rows × 17 columns</p>\n",
       "</div>"
      ],
      "text/plain": [
       "     PassengerId  Survived  Pclass  \\\n",
       "0              1         0       3   \n",
       "1              2         1       1   \n",
       "2              3         1       3   \n",
       "3              4         1       1   \n",
       "4              5         0       3   \n",
       "..           ...       ...     ...   \n",
       "886          887         0       2   \n",
       "887          888         1       1   \n",
       "888          889         0       3   \n",
       "889          890         1       1   \n",
       "890          891         0       3   \n",
       "\n",
       "                                                  Name     Sex   Age  SibSp  \\\n",
       "0                              Braund, Mr. Owen Harris    male  22.0      1   \n",
       "1    Cumings, Mrs. John Bradley (Florence Briggs Th...  female  38.0      1   \n",
       "2                               Heikkinen, Miss. Laina  female  26.0      0   \n",
       "3         Futrelle, Mrs. Jacques Heath (Lily May Peel)  female  35.0      1   \n",
       "4                             Allen, Mr. William Henry    male  35.0      0   \n",
       "..                                                 ...     ...   ...    ...   \n",
       "886                              Montvila, Rev. Juozas    male  27.0      0   \n",
       "887                       Graham, Miss. Margaret Edith  female  19.0      0   \n",
       "888           Johnston, Miss. Catherine Helen \"Carrie\"  female   NaN      1   \n",
       "889                              Behr, Mr. Karl Howell    male  26.0      0   \n",
       "890                                Dooley, Mr. Patrick    male  32.0      0   \n",
       "\n",
       "     Parch            Ticket     Fare Cabin Embarked  AgeClass  Title  \\\n",
       "0        0         A/5 21171   7.2500   NaN        S         3      2   \n",
       "1        0          PC 17599  71.2833   C85        C         4      4   \n",
       "2        0  STON/O2. 3101282   7.9250   NaN        S         3      3   \n",
       "3        0            113803  53.1000  C123        S         4      4   \n",
       "4        0            373450   8.0500   NaN        S         4      2   \n",
       "..     ...               ...      ...   ...      ...       ...    ...   \n",
       "886      0            211536  13.0000   NaN        S         3      5   \n",
       "887      0            112053  30.0000   B42        S         2      3   \n",
       "888      2        W./C. 6607  23.4500   NaN        S         7      3   \n",
       "889      0            111369  30.0000  C148        C         3      2   \n",
       "890      0            370376   7.7500   NaN        Q         4      2   \n",
       "\n",
       "    CabinLetter  CabinNumber  Relatives  \n",
       "0       Unknown            0          1  \n",
       "1             C            4          1  \n",
       "2       Unknown            0          0  \n",
       "3             C            5          1  \n",
       "4       Unknown            0          0  \n",
       "..          ...          ...        ...  \n",
       "886     Unknown            0          0  \n",
       "887           B            2          0  \n",
       "888     Unknown            0          3  \n",
       "889           C            6          0  \n",
       "890     Unknown            0          0  \n",
       "\n",
       "[891 rows x 17 columns]"
      ]
     },
     "execution_count": 32,
     "metadata": {},
     "output_type": "execute_result"
    }
   ],
   "source": [
    "df"
   ]
  },
  {
   "cell_type": "markdown",
   "id": "45c948c3",
   "metadata": {
    "papermill": {
     "duration": 0.033002,
     "end_time": "2024-10-18T23:13:18.530321",
     "exception": false,
     "start_time": "2024-10-18T23:13:18.497319",
     "status": "completed"
    },
    "tags": []
   },
   "source": [
    "# 5. Preprocessing\n",
    "\n",
    "Labels:\n",
    "\n",
    "- PassengerId: drop\n",
    "- Survived: target\n",
    "- Pclass: ok\n",
    "- Name: drop\n",
    "- Sex: one hot enconding\n",
    "- Age: Drop\n",
    "- SibSp: ok\n",
    "- Parch: ok\n",
    "- Ticket: drop\n",
    "- Fare: ok\n",
    "- Cabin: drop\n",
    "- Embarked: FillNa and OneHotEnconding\n",
    "- AgeClass: ok\n",
    "- Title: Ok\n",
    "- CabinLetter: OneHotEnconder\n",
    "- CabinNumber: ok\n",
    "- Relatives: ok"
   ]
  },
  {
   "cell_type": "code",
   "execution_count": 33,
   "id": "83c698a2",
   "metadata": {
    "execution": {
     "iopub.execute_input": "2024-10-18T23:13:18.598337Z",
     "iopub.status.busy": "2024-10-18T23:13:18.597892Z",
     "iopub.status.idle": "2024-10-18T23:13:18.633948Z",
     "shell.execute_reply": "2024-10-18T23:13:18.632278Z"
    },
    "papermill": {
     "duration": 0.073361,
     "end_time": "2024-10-18T23:13:18.637287",
     "exception": false,
     "start_time": "2024-10-18T23:13:18.563926",
     "status": "completed"
    },
    "tags": []
   },
   "outputs": [],
   "source": [
    "def preprocess_dataset(df_, train):\n",
    "    if train:\n",
    "        y = df_[\"Survived\"]\n",
    "        x = df_.drop(\"Survived\", axis=1)\n",
    "    else:\n",
    "        x = df_.copy()\n",
    "    \n",
    "    x.drop([\"Name\", \"PassengerId\", \"Age\", \"Ticket\", \"Cabin\"], axis=1, inplace=True)\n",
    "    \n",
    "    x[\"Embarked\"].fillna(\"Unknown\", inplace=True)\n",
    "    \n",
    "    cat_features = [\"Sex\", \"Embarked\", \"CabinLetter\"]\n",
    "    one_hot = OneHotEncoder()\n",
    "    \n",
    "    sex_encoder = OneHotEncoder(categories=[[\"male\", \"female\"]])\n",
    "    embarked_encoder = OneHotEncoder(categories=[[\"S\", \"C\", \"Q\", \"Unknown\"]])\n",
    "    cabinletter_encoder = OneHotEncoder(categories=[[\"A\", \"B\", \"C\", \"D\", \"E\", \"F\", \"G\", \"T\",\"Unknown\"]])\n",
    "    \n",
    "    transformer = ColumnTransformer([(\"sex_encoder\", sex_encoder, [\"Sex\"]),\n",
    "                                    (\"embarked_encoder\", embarked_encoder, [\"Embarked\"]),\n",
    "                                    (\"cabinletter_encoder\", cabinletter_encoder, [\"CabinLetter\"])],\n",
    "                                    remainder = \"passthrough\")\n",
    "\n",
    "    \n",
    "    x_transformed = pd.DataFrame(transformer.fit_transform(x))\n",
    "    \n",
    "    if train:\n",
    "        return x_transformed, y\n",
    "    \n",
    "    return x_transformed\n",
    "\n",
    "x, y = preprocess_dataset(df, train=True)\n",
    "\n",
    "X_tr, X_ts, y_tr, y_ts = train_test_split(x, y, test_size = .25, random_state=120975)"
   ]
  },
  {
   "cell_type": "code",
   "execution_count": 34,
   "id": "cc1521db",
   "metadata": {
    "execution": {
     "iopub.execute_input": "2024-10-18T23:13:18.706653Z",
     "iopub.status.busy": "2024-10-18T23:13:18.706149Z",
     "iopub.status.idle": "2024-10-18T23:13:18.760573Z",
     "shell.execute_reply": "2024-10-18T23:13:18.759397Z"
    },
    "papermill": {
     "duration": 0.092129,
     "end_time": "2024-10-18T23:13:18.763383",
     "exception": false,
     "start_time": "2024-10-18T23:13:18.671254",
     "status": "completed"
    },
    "tags": []
   },
   "outputs": [
    {
     "data": {
      "text/html": [
       "<div>\n",
       "<style scoped>\n",
       "    .dataframe tbody tr th:only-of-type {\n",
       "        vertical-align: middle;\n",
       "    }\n",
       "\n",
       "    .dataframe tbody tr th {\n",
       "        vertical-align: top;\n",
       "    }\n",
       "\n",
       "    .dataframe thead th {\n",
       "        text-align: right;\n",
       "    }\n",
       "</style>\n",
       "<table border=\"1\" class=\"dataframe\">\n",
       "  <thead>\n",
       "    <tr style=\"text-align: right;\">\n",
       "      <th></th>\n",
       "      <th>0</th>\n",
       "      <th>1</th>\n",
       "      <th>2</th>\n",
       "      <th>3</th>\n",
       "      <th>4</th>\n",
       "      <th>5</th>\n",
       "      <th>6</th>\n",
       "      <th>7</th>\n",
       "      <th>8</th>\n",
       "      <th>9</th>\n",
       "      <th>10</th>\n",
       "      <th>11</th>\n",
       "      <th>12</th>\n",
       "      <th>13</th>\n",
       "      <th>14</th>\n",
       "      <th>15</th>\n",
       "      <th>16</th>\n",
       "      <th>17</th>\n",
       "      <th>18</th>\n",
       "      <th>19</th>\n",
       "      <th>20</th>\n",
       "      <th>21</th>\n",
       "      <th>22</th>\n",
       "    </tr>\n",
       "  </thead>\n",
       "  <tbody>\n",
       "    <tr>\n",
       "      <th>0</th>\n",
       "      <td>1.0</td>\n",
       "      <td>0.0</td>\n",
       "      <td>1.0</td>\n",
       "      <td>0.0</td>\n",
       "      <td>0.0</td>\n",
       "      <td>0.0</td>\n",
       "      <td>0.0</td>\n",
       "      <td>0.0</td>\n",
       "      <td>0.0</td>\n",
       "      <td>0.0</td>\n",
       "      <td>0.0</td>\n",
       "      <td>0.0</td>\n",
       "      <td>0.0</td>\n",
       "      <td>0.0</td>\n",
       "      <td>1.0</td>\n",
       "      <td>3.0</td>\n",
       "      <td>1.0</td>\n",
       "      <td>0.0</td>\n",
       "      <td>7.2500</td>\n",
       "      <td>3.0</td>\n",
       "      <td>2.0</td>\n",
       "      <td>0.0</td>\n",
       "      <td>1.0</td>\n",
       "    </tr>\n",
       "    <tr>\n",
       "      <th>1</th>\n",
       "      <td>0.0</td>\n",
       "      <td>1.0</td>\n",
       "      <td>0.0</td>\n",
       "      <td>1.0</td>\n",
       "      <td>0.0</td>\n",
       "      <td>0.0</td>\n",
       "      <td>0.0</td>\n",
       "      <td>0.0</td>\n",
       "      <td>1.0</td>\n",
       "      <td>0.0</td>\n",
       "      <td>0.0</td>\n",
       "      <td>0.0</td>\n",
       "      <td>0.0</td>\n",
       "      <td>0.0</td>\n",
       "      <td>0.0</td>\n",
       "      <td>1.0</td>\n",
       "      <td>1.0</td>\n",
       "      <td>0.0</td>\n",
       "      <td>71.2833</td>\n",
       "      <td>4.0</td>\n",
       "      <td>4.0</td>\n",
       "      <td>4.0</td>\n",
       "      <td>1.0</td>\n",
       "    </tr>\n",
       "    <tr>\n",
       "      <th>2</th>\n",
       "      <td>0.0</td>\n",
       "      <td>1.0</td>\n",
       "      <td>1.0</td>\n",
       "      <td>0.0</td>\n",
       "      <td>0.0</td>\n",
       "      <td>0.0</td>\n",
       "      <td>0.0</td>\n",
       "      <td>0.0</td>\n",
       "      <td>0.0</td>\n",
       "      <td>0.0</td>\n",
       "      <td>0.0</td>\n",
       "      <td>0.0</td>\n",
       "      <td>0.0</td>\n",
       "      <td>0.0</td>\n",
       "      <td>1.0</td>\n",
       "      <td>3.0</td>\n",
       "      <td>0.0</td>\n",
       "      <td>0.0</td>\n",
       "      <td>7.9250</td>\n",
       "      <td>3.0</td>\n",
       "      <td>3.0</td>\n",
       "      <td>0.0</td>\n",
       "      <td>0.0</td>\n",
       "    </tr>\n",
       "    <tr>\n",
       "      <th>3</th>\n",
       "      <td>0.0</td>\n",
       "      <td>1.0</td>\n",
       "      <td>1.0</td>\n",
       "      <td>0.0</td>\n",
       "      <td>0.0</td>\n",
       "      <td>0.0</td>\n",
       "      <td>0.0</td>\n",
       "      <td>0.0</td>\n",
       "      <td>1.0</td>\n",
       "      <td>0.0</td>\n",
       "      <td>0.0</td>\n",
       "      <td>0.0</td>\n",
       "      <td>0.0</td>\n",
       "      <td>0.0</td>\n",
       "      <td>0.0</td>\n",
       "      <td>1.0</td>\n",
       "      <td>1.0</td>\n",
       "      <td>0.0</td>\n",
       "      <td>53.1000</td>\n",
       "      <td>4.0</td>\n",
       "      <td>4.0</td>\n",
       "      <td>5.0</td>\n",
       "      <td>1.0</td>\n",
       "    </tr>\n",
       "    <tr>\n",
       "      <th>4</th>\n",
       "      <td>1.0</td>\n",
       "      <td>0.0</td>\n",
       "      <td>1.0</td>\n",
       "      <td>0.0</td>\n",
       "      <td>0.0</td>\n",
       "      <td>0.0</td>\n",
       "      <td>0.0</td>\n",
       "      <td>0.0</td>\n",
       "      <td>0.0</td>\n",
       "      <td>0.0</td>\n",
       "      <td>0.0</td>\n",
       "      <td>0.0</td>\n",
       "      <td>0.0</td>\n",
       "      <td>0.0</td>\n",
       "      <td>1.0</td>\n",
       "      <td>3.0</td>\n",
       "      <td>0.0</td>\n",
       "      <td>0.0</td>\n",
       "      <td>8.0500</td>\n",
       "      <td>4.0</td>\n",
       "      <td>2.0</td>\n",
       "      <td>0.0</td>\n",
       "      <td>0.0</td>\n",
       "    </tr>\n",
       "    <tr>\n",
       "      <th>...</th>\n",
       "      <td>...</td>\n",
       "      <td>...</td>\n",
       "      <td>...</td>\n",
       "      <td>...</td>\n",
       "      <td>...</td>\n",
       "      <td>...</td>\n",
       "      <td>...</td>\n",
       "      <td>...</td>\n",
       "      <td>...</td>\n",
       "      <td>...</td>\n",
       "      <td>...</td>\n",
       "      <td>...</td>\n",
       "      <td>...</td>\n",
       "      <td>...</td>\n",
       "      <td>...</td>\n",
       "      <td>...</td>\n",
       "      <td>...</td>\n",
       "      <td>...</td>\n",
       "      <td>...</td>\n",
       "      <td>...</td>\n",
       "      <td>...</td>\n",
       "      <td>...</td>\n",
       "      <td>...</td>\n",
       "    </tr>\n",
       "    <tr>\n",
       "      <th>886</th>\n",
       "      <td>1.0</td>\n",
       "      <td>0.0</td>\n",
       "      <td>1.0</td>\n",
       "      <td>0.0</td>\n",
       "      <td>0.0</td>\n",
       "      <td>0.0</td>\n",
       "      <td>0.0</td>\n",
       "      <td>0.0</td>\n",
       "      <td>0.0</td>\n",
       "      <td>0.0</td>\n",
       "      <td>0.0</td>\n",
       "      <td>0.0</td>\n",
       "      <td>0.0</td>\n",
       "      <td>0.0</td>\n",
       "      <td>1.0</td>\n",
       "      <td>2.0</td>\n",
       "      <td>0.0</td>\n",
       "      <td>0.0</td>\n",
       "      <td>13.0000</td>\n",
       "      <td>3.0</td>\n",
       "      <td>5.0</td>\n",
       "      <td>0.0</td>\n",
       "      <td>0.0</td>\n",
       "    </tr>\n",
       "    <tr>\n",
       "      <th>887</th>\n",
       "      <td>0.0</td>\n",
       "      <td>1.0</td>\n",
       "      <td>1.0</td>\n",
       "      <td>0.0</td>\n",
       "      <td>0.0</td>\n",
       "      <td>0.0</td>\n",
       "      <td>0.0</td>\n",
       "      <td>1.0</td>\n",
       "      <td>0.0</td>\n",
       "      <td>0.0</td>\n",
       "      <td>0.0</td>\n",
       "      <td>0.0</td>\n",
       "      <td>0.0</td>\n",
       "      <td>0.0</td>\n",
       "      <td>0.0</td>\n",
       "      <td>1.0</td>\n",
       "      <td>0.0</td>\n",
       "      <td>0.0</td>\n",
       "      <td>30.0000</td>\n",
       "      <td>2.0</td>\n",
       "      <td>3.0</td>\n",
       "      <td>2.0</td>\n",
       "      <td>0.0</td>\n",
       "    </tr>\n",
       "    <tr>\n",
       "      <th>888</th>\n",
       "      <td>0.0</td>\n",
       "      <td>1.0</td>\n",
       "      <td>1.0</td>\n",
       "      <td>0.0</td>\n",
       "      <td>0.0</td>\n",
       "      <td>0.0</td>\n",
       "      <td>0.0</td>\n",
       "      <td>0.0</td>\n",
       "      <td>0.0</td>\n",
       "      <td>0.0</td>\n",
       "      <td>0.0</td>\n",
       "      <td>0.0</td>\n",
       "      <td>0.0</td>\n",
       "      <td>0.0</td>\n",
       "      <td>1.0</td>\n",
       "      <td>3.0</td>\n",
       "      <td>1.0</td>\n",
       "      <td>2.0</td>\n",
       "      <td>23.4500</td>\n",
       "      <td>7.0</td>\n",
       "      <td>3.0</td>\n",
       "      <td>0.0</td>\n",
       "      <td>3.0</td>\n",
       "    </tr>\n",
       "    <tr>\n",
       "      <th>889</th>\n",
       "      <td>1.0</td>\n",
       "      <td>0.0</td>\n",
       "      <td>0.0</td>\n",
       "      <td>1.0</td>\n",
       "      <td>0.0</td>\n",
       "      <td>0.0</td>\n",
       "      <td>0.0</td>\n",
       "      <td>0.0</td>\n",
       "      <td>1.0</td>\n",
       "      <td>0.0</td>\n",
       "      <td>0.0</td>\n",
       "      <td>0.0</td>\n",
       "      <td>0.0</td>\n",
       "      <td>0.0</td>\n",
       "      <td>0.0</td>\n",
       "      <td>1.0</td>\n",
       "      <td>0.0</td>\n",
       "      <td>0.0</td>\n",
       "      <td>30.0000</td>\n",
       "      <td>3.0</td>\n",
       "      <td>2.0</td>\n",
       "      <td>6.0</td>\n",
       "      <td>0.0</td>\n",
       "    </tr>\n",
       "    <tr>\n",
       "      <th>890</th>\n",
       "      <td>1.0</td>\n",
       "      <td>0.0</td>\n",
       "      <td>0.0</td>\n",
       "      <td>0.0</td>\n",
       "      <td>1.0</td>\n",
       "      <td>0.0</td>\n",
       "      <td>0.0</td>\n",
       "      <td>0.0</td>\n",
       "      <td>0.0</td>\n",
       "      <td>0.0</td>\n",
       "      <td>0.0</td>\n",
       "      <td>0.0</td>\n",
       "      <td>0.0</td>\n",
       "      <td>0.0</td>\n",
       "      <td>1.0</td>\n",
       "      <td>3.0</td>\n",
       "      <td>0.0</td>\n",
       "      <td>0.0</td>\n",
       "      <td>7.7500</td>\n",
       "      <td>4.0</td>\n",
       "      <td>2.0</td>\n",
       "      <td>0.0</td>\n",
       "      <td>0.0</td>\n",
       "    </tr>\n",
       "  </tbody>\n",
       "</table>\n",
       "<p>891 rows × 23 columns</p>\n",
       "</div>"
      ],
      "text/plain": [
       "      0    1    2    3    4    5    6    7    8    9    10   11   12   13  \\\n",
       "0    1.0  0.0  1.0  0.0  0.0  0.0  0.0  0.0  0.0  0.0  0.0  0.0  0.0  0.0   \n",
       "1    0.0  1.0  0.0  1.0  0.0  0.0  0.0  0.0  1.0  0.0  0.0  0.0  0.0  0.0   \n",
       "2    0.0  1.0  1.0  0.0  0.0  0.0  0.0  0.0  0.0  0.0  0.0  0.0  0.0  0.0   \n",
       "3    0.0  1.0  1.0  0.0  0.0  0.0  0.0  0.0  1.0  0.0  0.0  0.0  0.0  0.0   \n",
       "4    1.0  0.0  1.0  0.0  0.0  0.0  0.0  0.0  0.0  0.0  0.0  0.0  0.0  0.0   \n",
       "..   ...  ...  ...  ...  ...  ...  ...  ...  ...  ...  ...  ...  ...  ...   \n",
       "886  1.0  0.0  1.0  0.0  0.0  0.0  0.0  0.0  0.0  0.0  0.0  0.0  0.0  0.0   \n",
       "887  0.0  1.0  1.0  0.0  0.0  0.0  0.0  1.0  0.0  0.0  0.0  0.0  0.0  0.0   \n",
       "888  0.0  1.0  1.0  0.0  0.0  0.0  0.0  0.0  0.0  0.0  0.0  0.0  0.0  0.0   \n",
       "889  1.0  0.0  0.0  1.0  0.0  0.0  0.0  0.0  1.0  0.0  0.0  0.0  0.0  0.0   \n",
       "890  1.0  0.0  0.0  0.0  1.0  0.0  0.0  0.0  0.0  0.0  0.0  0.0  0.0  0.0   \n",
       "\n",
       "      14   15   16   17       18   19   20   21   22  \n",
       "0    1.0  3.0  1.0  0.0   7.2500  3.0  2.0  0.0  1.0  \n",
       "1    0.0  1.0  1.0  0.0  71.2833  4.0  4.0  4.0  1.0  \n",
       "2    1.0  3.0  0.0  0.0   7.9250  3.0  3.0  0.0  0.0  \n",
       "3    0.0  1.0  1.0  0.0  53.1000  4.0  4.0  5.0  1.0  \n",
       "4    1.0  3.0  0.0  0.0   8.0500  4.0  2.0  0.0  0.0  \n",
       "..   ...  ...  ...  ...      ...  ...  ...  ...  ...  \n",
       "886  1.0  2.0  0.0  0.0  13.0000  3.0  5.0  0.0  0.0  \n",
       "887  0.0  1.0  0.0  0.0  30.0000  2.0  3.0  2.0  0.0  \n",
       "888  1.0  3.0  1.0  2.0  23.4500  7.0  3.0  0.0  3.0  \n",
       "889  0.0  1.0  0.0  0.0  30.0000  3.0  2.0  6.0  0.0  \n",
       "890  1.0  3.0  0.0  0.0   7.7500  4.0  2.0  0.0  0.0  \n",
       "\n",
       "[891 rows x 23 columns]"
      ]
     },
     "execution_count": 34,
     "metadata": {},
     "output_type": "execute_result"
    }
   ],
   "source": [
    "x"
   ]
  },
  {
   "cell_type": "markdown",
   "id": "749e8366",
   "metadata": {
    "papermill": {
     "duration": 0.037541,
     "end_time": "2024-10-18T23:13:18.834742",
     "exception": false,
     "start_time": "2024-10-18T23:13:18.797201",
     "status": "completed"
    },
    "tags": []
   },
   "source": [
    "# 6. Modeling and predicting"
   ]
  },
  {
   "cell_type": "code",
   "execution_count": 35,
   "id": "c0d059c4",
   "metadata": {
    "execution": {
     "iopub.execute_input": "2024-10-18T23:13:18.912001Z",
     "iopub.status.busy": "2024-10-18T23:13:18.911478Z",
     "iopub.status.idle": "2024-10-18T23:13:18.927356Z",
     "shell.execute_reply": "2024-10-18T23:13:18.926060Z"
    },
    "papermill": {
     "duration": 0.056005,
     "end_time": "2024-10-18T23:13:18.930545",
     "exception": false,
     "start_time": "2024-10-18T23:13:18.874540",
     "status": "completed"
    },
    "tags": []
   },
   "outputs": [],
   "source": [
    "test_df = pd.read_csv(\"/kaggle/input/titanic/test.csv\")"
   ]
  },
  {
   "cell_type": "code",
   "execution_count": 36,
   "id": "f4c18327",
   "metadata": {
    "execution": {
     "iopub.execute_input": "2024-10-18T23:13:19.002624Z",
     "iopub.status.busy": "2024-10-18T23:13:19.002179Z",
     "iopub.status.idle": "2024-10-18T23:13:19.018128Z",
     "shell.execute_reply": "2024-10-18T23:13:19.016055Z"
    },
    "papermill": {
     "duration": 0.055157,
     "end_time": "2024-10-18T23:13:19.021673",
     "exception": false,
     "start_time": "2024-10-18T23:13:18.966516",
     "status": "completed"
    },
    "tags": []
   },
   "outputs": [
    {
     "name": "stdout",
     "output_type": "stream",
     "text": [
      "<class 'pandas.core.frame.DataFrame'>\n",
      "RangeIndex: 418 entries, 0 to 417\n",
      "Data columns (total 11 columns):\n",
      " #   Column       Non-Null Count  Dtype  \n",
      "---  ------       --------------  -----  \n",
      " 0   PassengerId  418 non-null    int64  \n",
      " 1   Pclass       418 non-null    int64  \n",
      " 2   Name         418 non-null    object \n",
      " 3   Sex          418 non-null    object \n",
      " 4   Age          332 non-null    float64\n",
      " 5   SibSp        418 non-null    int64  \n",
      " 6   Parch        418 non-null    int64  \n",
      " 7   Ticket       418 non-null    object \n",
      " 8   Fare         417 non-null    float64\n",
      " 9   Cabin        91 non-null     object \n",
      " 10  Embarked     418 non-null    object \n",
      "dtypes: float64(2), int64(4), object(5)\n",
      "memory usage: 36.0+ KB\n"
     ]
    }
   ],
   "source": [
    "test_df.info()"
   ]
  },
  {
   "cell_type": "code",
   "execution_count": 37,
   "id": "1e5626bd",
   "metadata": {
    "execution": {
     "iopub.execute_input": "2024-10-18T23:13:19.097381Z",
     "iopub.status.busy": "2024-10-18T23:13:19.096917Z",
     "iopub.status.idle": "2024-10-18T23:13:20.750096Z",
     "shell.execute_reply": "2024-10-18T23:13:20.748613Z"
    },
    "papermill": {
     "duration": 1.693526,
     "end_time": "2024-10-18T23:13:20.752916",
     "exception": false,
     "start_time": "2024-10-18T23:13:19.059390",
     "status": "completed"
    },
    "tags": []
   },
   "outputs": [
    {
     "name": "stdout",
     "output_type": "stream",
     "text": [
      "\n",
      "\n",
      "\n",
      "\n",
      "\n",
      "\n",
      "\n"
     ]
    },
    {
     "data": {
      "text/html": [
       "<div>\n",
       "<style scoped>\n",
       "    .dataframe tbody tr th:only-of-type {\n",
       "        vertical-align: middle;\n",
       "    }\n",
       "\n",
       "    .dataframe tbody tr th {\n",
       "        vertical-align: top;\n",
       "    }\n",
       "\n",
       "    .dataframe thead th {\n",
       "        text-align: right;\n",
       "    }\n",
       "</style>\n",
       "<table border=\"1\" class=\"dataframe\">\n",
       "  <thead>\n",
       "    <tr style=\"text-align: right;\">\n",
       "      <th></th>\n",
       "      <th>0</th>\n",
       "      <th>1</th>\n",
       "      <th>2</th>\n",
       "      <th>3</th>\n",
       "      <th>4</th>\n",
       "      <th>5</th>\n",
       "      <th>6</th>\n",
       "      <th>7</th>\n",
       "      <th>8</th>\n",
       "      <th>9</th>\n",
       "      <th>10</th>\n",
       "      <th>11</th>\n",
       "      <th>12</th>\n",
       "      <th>13</th>\n",
       "      <th>14</th>\n",
       "      <th>15</th>\n",
       "      <th>16</th>\n",
       "      <th>17</th>\n",
       "      <th>18</th>\n",
       "      <th>19</th>\n",
       "      <th>20</th>\n",
       "      <th>21</th>\n",
       "      <th>22</th>\n",
       "    </tr>\n",
       "  </thead>\n",
       "  <tbody>\n",
       "    <tr>\n",
       "      <th>0</th>\n",
       "      <td>1.0</td>\n",
       "      <td>0.0</td>\n",
       "      <td>0.0</td>\n",
       "      <td>0.0</td>\n",
       "      <td>1.0</td>\n",
       "      <td>0.0</td>\n",
       "      <td>0.0</td>\n",
       "      <td>0.0</td>\n",
       "      <td>0.0</td>\n",
       "      <td>0.0</td>\n",
       "      <td>0.0</td>\n",
       "      <td>0.0</td>\n",
       "      <td>0.0</td>\n",
       "      <td>0.0</td>\n",
       "      <td>1.0</td>\n",
       "      <td>3.0</td>\n",
       "      <td>0.0</td>\n",
       "      <td>0.0</td>\n",
       "      <td>7.8292</td>\n",
       "      <td>4.0</td>\n",
       "      <td>2.0</td>\n",
       "      <td>0.0</td>\n",
       "      <td>0.0</td>\n",
       "    </tr>\n",
       "    <tr>\n",
       "      <th>1</th>\n",
       "      <td>0.0</td>\n",
       "      <td>1.0</td>\n",
       "      <td>1.0</td>\n",
       "      <td>0.0</td>\n",
       "      <td>0.0</td>\n",
       "      <td>0.0</td>\n",
       "      <td>0.0</td>\n",
       "      <td>0.0</td>\n",
       "      <td>0.0</td>\n",
       "      <td>0.0</td>\n",
       "      <td>0.0</td>\n",
       "      <td>0.0</td>\n",
       "      <td>0.0</td>\n",
       "      <td>0.0</td>\n",
       "      <td>1.0</td>\n",
       "      <td>3.0</td>\n",
       "      <td>1.0</td>\n",
       "      <td>0.0</td>\n",
       "      <td>7.0000</td>\n",
       "      <td>5.0</td>\n",
       "      <td>4.0</td>\n",
       "      <td>0.0</td>\n",
       "      <td>1.0</td>\n",
       "    </tr>\n",
       "    <tr>\n",
       "      <th>2</th>\n",
       "      <td>1.0</td>\n",
       "      <td>0.0</td>\n",
       "      <td>0.0</td>\n",
       "      <td>0.0</td>\n",
       "      <td>1.0</td>\n",
       "      <td>0.0</td>\n",
       "      <td>0.0</td>\n",
       "      <td>0.0</td>\n",
       "      <td>0.0</td>\n",
       "      <td>0.0</td>\n",
       "      <td>0.0</td>\n",
       "      <td>0.0</td>\n",
       "      <td>0.0</td>\n",
       "      <td>0.0</td>\n",
       "      <td>1.0</td>\n",
       "      <td>2.0</td>\n",
       "      <td>0.0</td>\n",
       "      <td>0.0</td>\n",
       "      <td>9.6875</td>\n",
       "      <td>6.0</td>\n",
       "      <td>2.0</td>\n",
       "      <td>0.0</td>\n",
       "      <td>0.0</td>\n",
       "    </tr>\n",
       "    <tr>\n",
       "      <th>3</th>\n",
       "      <td>1.0</td>\n",
       "      <td>0.0</td>\n",
       "      <td>1.0</td>\n",
       "      <td>0.0</td>\n",
       "      <td>0.0</td>\n",
       "      <td>0.0</td>\n",
       "      <td>0.0</td>\n",
       "      <td>0.0</td>\n",
       "      <td>0.0</td>\n",
       "      <td>0.0</td>\n",
       "      <td>0.0</td>\n",
       "      <td>0.0</td>\n",
       "      <td>0.0</td>\n",
       "      <td>0.0</td>\n",
       "      <td>1.0</td>\n",
       "      <td>3.0</td>\n",
       "      <td>0.0</td>\n",
       "      <td>0.0</td>\n",
       "      <td>8.6625</td>\n",
       "      <td>3.0</td>\n",
       "      <td>2.0</td>\n",
       "      <td>0.0</td>\n",
       "      <td>0.0</td>\n",
       "    </tr>\n",
       "    <tr>\n",
       "      <th>4</th>\n",
       "      <td>0.0</td>\n",
       "      <td>1.0</td>\n",
       "      <td>1.0</td>\n",
       "      <td>0.0</td>\n",
       "      <td>0.0</td>\n",
       "      <td>0.0</td>\n",
       "      <td>0.0</td>\n",
       "      <td>0.0</td>\n",
       "      <td>0.0</td>\n",
       "      <td>0.0</td>\n",
       "      <td>0.0</td>\n",
       "      <td>0.0</td>\n",
       "      <td>0.0</td>\n",
       "      <td>0.0</td>\n",
       "      <td>1.0</td>\n",
       "      <td>3.0</td>\n",
       "      <td>1.0</td>\n",
       "      <td>1.0</td>\n",
       "      <td>12.2875</td>\n",
       "      <td>3.0</td>\n",
       "      <td>4.0</td>\n",
       "      <td>0.0</td>\n",
       "      <td>2.0</td>\n",
       "    </tr>\n",
       "    <tr>\n",
       "      <th>...</th>\n",
       "      <td>...</td>\n",
       "      <td>...</td>\n",
       "      <td>...</td>\n",
       "      <td>...</td>\n",
       "      <td>...</td>\n",
       "      <td>...</td>\n",
       "      <td>...</td>\n",
       "      <td>...</td>\n",
       "      <td>...</td>\n",
       "      <td>...</td>\n",
       "      <td>...</td>\n",
       "      <td>...</td>\n",
       "      <td>...</td>\n",
       "      <td>...</td>\n",
       "      <td>...</td>\n",
       "      <td>...</td>\n",
       "      <td>...</td>\n",
       "      <td>...</td>\n",
       "      <td>...</td>\n",
       "      <td>...</td>\n",
       "      <td>...</td>\n",
       "      <td>...</td>\n",
       "      <td>...</td>\n",
       "    </tr>\n",
       "    <tr>\n",
       "      <th>413</th>\n",
       "      <td>1.0</td>\n",
       "      <td>0.0</td>\n",
       "      <td>1.0</td>\n",
       "      <td>0.0</td>\n",
       "      <td>0.0</td>\n",
       "      <td>0.0</td>\n",
       "      <td>0.0</td>\n",
       "      <td>0.0</td>\n",
       "      <td>0.0</td>\n",
       "      <td>0.0</td>\n",
       "      <td>0.0</td>\n",
       "      <td>0.0</td>\n",
       "      <td>0.0</td>\n",
       "      <td>0.0</td>\n",
       "      <td>1.0</td>\n",
       "      <td>3.0</td>\n",
       "      <td>0.0</td>\n",
       "      <td>0.0</td>\n",
       "      <td>8.0500</td>\n",
       "      <td>7.0</td>\n",
       "      <td>2.0</td>\n",
       "      <td>0.0</td>\n",
       "      <td>0.0</td>\n",
       "    </tr>\n",
       "    <tr>\n",
       "      <th>414</th>\n",
       "      <td>0.0</td>\n",
       "      <td>1.0</td>\n",
       "      <td>0.0</td>\n",
       "      <td>1.0</td>\n",
       "      <td>0.0</td>\n",
       "      <td>0.0</td>\n",
       "      <td>0.0</td>\n",
       "      <td>0.0</td>\n",
       "      <td>1.0</td>\n",
       "      <td>0.0</td>\n",
       "      <td>0.0</td>\n",
       "      <td>0.0</td>\n",
       "      <td>0.0</td>\n",
       "      <td>0.0</td>\n",
       "      <td>0.0</td>\n",
       "      <td>1.0</td>\n",
       "      <td>0.0</td>\n",
       "      <td>0.0</td>\n",
       "      <td>108.9000</td>\n",
       "      <td>4.0</td>\n",
       "      <td>5.0</td>\n",
       "      <td>5.0</td>\n",
       "      <td>0.0</td>\n",
       "    </tr>\n",
       "    <tr>\n",
       "      <th>415</th>\n",
       "      <td>1.0</td>\n",
       "      <td>0.0</td>\n",
       "      <td>1.0</td>\n",
       "      <td>0.0</td>\n",
       "      <td>0.0</td>\n",
       "      <td>0.0</td>\n",
       "      <td>0.0</td>\n",
       "      <td>0.0</td>\n",
       "      <td>0.0</td>\n",
       "      <td>0.0</td>\n",
       "      <td>0.0</td>\n",
       "      <td>0.0</td>\n",
       "      <td>0.0</td>\n",
       "      <td>0.0</td>\n",
       "      <td>1.0</td>\n",
       "      <td>3.0</td>\n",
       "      <td>0.0</td>\n",
       "      <td>0.0</td>\n",
       "      <td>7.2500</td>\n",
       "      <td>4.0</td>\n",
       "      <td>2.0</td>\n",
       "      <td>0.0</td>\n",
       "      <td>0.0</td>\n",
       "    </tr>\n",
       "    <tr>\n",
       "      <th>416</th>\n",
       "      <td>1.0</td>\n",
       "      <td>0.0</td>\n",
       "      <td>1.0</td>\n",
       "      <td>0.0</td>\n",
       "      <td>0.0</td>\n",
       "      <td>0.0</td>\n",
       "      <td>0.0</td>\n",
       "      <td>0.0</td>\n",
       "      <td>0.0</td>\n",
       "      <td>0.0</td>\n",
       "      <td>0.0</td>\n",
       "      <td>0.0</td>\n",
       "      <td>0.0</td>\n",
       "      <td>0.0</td>\n",
       "      <td>1.0</td>\n",
       "      <td>3.0</td>\n",
       "      <td>0.0</td>\n",
       "      <td>0.0</td>\n",
       "      <td>8.0500</td>\n",
       "      <td>7.0</td>\n",
       "      <td>2.0</td>\n",
       "      <td>0.0</td>\n",
       "      <td>0.0</td>\n",
       "    </tr>\n",
       "    <tr>\n",
       "      <th>417</th>\n",
       "      <td>1.0</td>\n",
       "      <td>0.0</td>\n",
       "      <td>0.0</td>\n",
       "      <td>1.0</td>\n",
       "      <td>0.0</td>\n",
       "      <td>0.0</td>\n",
       "      <td>0.0</td>\n",
       "      <td>0.0</td>\n",
       "      <td>0.0</td>\n",
       "      <td>0.0</td>\n",
       "      <td>0.0</td>\n",
       "      <td>0.0</td>\n",
       "      <td>0.0</td>\n",
       "      <td>0.0</td>\n",
       "      <td>1.0</td>\n",
       "      <td>3.0</td>\n",
       "      <td>1.0</td>\n",
       "      <td>1.0</td>\n",
       "      <td>22.3583</td>\n",
       "      <td>1.0</td>\n",
       "      <td>1.0</td>\n",
       "      <td>0.0</td>\n",
       "      <td>2.0</td>\n",
       "    </tr>\n",
       "  </tbody>\n",
       "</table>\n",
       "<p>418 rows × 23 columns</p>\n",
       "</div>"
      ],
      "text/plain": [
       "      0    1    2    3    4    5    6    7    8    9    10   11   12   13  \\\n",
       "0    1.0  0.0  0.0  0.0  1.0  0.0  0.0  0.0  0.0  0.0  0.0  0.0  0.0  0.0   \n",
       "1    0.0  1.0  1.0  0.0  0.0  0.0  0.0  0.0  0.0  0.0  0.0  0.0  0.0  0.0   \n",
       "2    1.0  0.0  0.0  0.0  1.0  0.0  0.0  0.0  0.0  0.0  0.0  0.0  0.0  0.0   \n",
       "3    1.0  0.0  1.0  0.0  0.0  0.0  0.0  0.0  0.0  0.0  0.0  0.0  0.0  0.0   \n",
       "4    0.0  1.0  1.0  0.0  0.0  0.0  0.0  0.0  0.0  0.0  0.0  0.0  0.0  0.0   \n",
       "..   ...  ...  ...  ...  ...  ...  ...  ...  ...  ...  ...  ...  ...  ...   \n",
       "413  1.0  0.0  1.0  0.0  0.0  0.0  0.0  0.0  0.0  0.0  0.0  0.0  0.0  0.0   \n",
       "414  0.0  1.0  0.0  1.0  0.0  0.0  0.0  0.0  1.0  0.0  0.0  0.0  0.0  0.0   \n",
       "415  1.0  0.0  1.0  0.0  0.0  0.0  0.0  0.0  0.0  0.0  0.0  0.0  0.0  0.0   \n",
       "416  1.0  0.0  1.0  0.0  0.0  0.0  0.0  0.0  0.0  0.0  0.0  0.0  0.0  0.0   \n",
       "417  1.0  0.0  0.0  1.0  0.0  0.0  0.0  0.0  0.0  0.0  0.0  0.0  0.0  0.0   \n",
       "\n",
       "      14   15   16   17        18   19   20   21   22  \n",
       "0    1.0  3.0  0.0  0.0    7.8292  4.0  2.0  0.0  0.0  \n",
       "1    1.0  3.0  1.0  0.0    7.0000  5.0  4.0  0.0  1.0  \n",
       "2    1.0  2.0  0.0  0.0    9.6875  6.0  2.0  0.0  0.0  \n",
       "3    1.0  3.0  0.0  0.0    8.6625  3.0  2.0  0.0  0.0  \n",
       "4    1.0  3.0  1.0  1.0   12.2875  3.0  4.0  0.0  2.0  \n",
       "..   ...  ...  ...  ...       ...  ...  ...  ...  ...  \n",
       "413  1.0  3.0  0.0  0.0    8.0500  7.0  2.0  0.0  0.0  \n",
       "414  0.0  1.0  0.0  0.0  108.9000  4.0  5.0  5.0  0.0  \n",
       "415  1.0  3.0  0.0  0.0    7.2500  4.0  2.0  0.0  0.0  \n",
       "416  1.0  3.0  0.0  0.0    8.0500  7.0  2.0  0.0  0.0  \n",
       "417  1.0  3.0  1.0  1.0   22.3583  1.0  1.0  0.0  2.0  \n",
       "\n",
       "[418 rows x 23 columns]"
      ]
     },
     "execution_count": 37,
     "metadata": {},
     "output_type": "execute_result"
    }
   ],
   "source": [
    "test_df = test_df.apply(age_classification, axis=1)\n",
    "test_df = test_df.apply(title_class, axis=1)\n",
    "test_df = test_df.apply(cabin_class, axis=1)\n",
    "test_df = test_df.apply(relatives_class, axis=1)\n",
    "test_df[\"Fare\"].fillna(test_df[\"Fare\"].mean(), inplace=True)\n",
    "\n",
    "x_test = preprocess_dataset(test_df, train=False)\n",
    "\n",
    "x_test"
   ]
  },
  {
   "cell_type": "markdown",
   "id": "3f51a736",
   "metadata": {
    "papermill": {
     "duration": 0.092691,
     "end_time": "2024-10-18T23:13:20.880394",
     "exception": false,
     "start_time": "2024-10-18T23:13:20.787703",
     "status": "completed"
    },
    "tags": []
   },
   "source": [
    "## XGBoost"
   ]
  },
  {
   "cell_type": "code",
   "execution_count": 38,
   "id": "23a26384",
   "metadata": {
    "execution": {
     "iopub.execute_input": "2024-10-18T23:13:20.953144Z",
     "iopub.status.busy": "2024-10-18T23:13:20.952721Z",
     "iopub.status.idle": "2024-10-18T23:13:21.492080Z",
     "shell.execute_reply": "2024-10-18T23:13:21.491065Z"
    },
    "papermill": {
     "duration": 0.579599,
     "end_time": "2024-10-18T23:13:21.494990",
     "exception": false,
     "start_time": "2024-10-18T23:13:20.915391",
     "status": "completed"
    },
    "tags": []
   },
   "outputs": [
    {
     "name": "stdout",
     "output_type": "stream",
     "text": [
      "mean: 0.8565755441591438 std: 0.011456411089793842\n"
     ]
    }
   ],
   "source": [
    "cv = StratifiedKFold(n_splits=5, random_state = 120975, shuffle=True)\n",
    "\n",
    "model = xgb.XGBClassifier(eval_metric='logloss', seed=120975)\n",
    "\n",
    "score = cross_val_score(model , X_tr, y_tr, cv=cv, scoring='roc_auc')\n",
    "\n",
    "print(f'mean: {score.mean()} std: {score.std()}')"
   ]
  },
  {
   "cell_type": "code",
   "execution_count": 39,
   "id": "4624b2d9",
   "metadata": {
    "execution": {
     "iopub.execute_input": "2024-10-18T23:13:21.569499Z",
     "iopub.status.busy": "2024-10-18T23:13:21.569045Z",
     "iopub.status.idle": "2024-10-18T23:13:21.675059Z",
     "shell.execute_reply": "2024-10-18T23:13:21.673934Z"
    },
    "papermill": {
     "duration": 0.146347,
     "end_time": "2024-10-18T23:13:21.677590",
     "exception": false,
     "start_time": "2024-10-18T23:13:21.531243",
     "status": "completed"
    },
    "tags": []
   },
   "outputs": [
    {
     "data": {
      "text/html": [
       "<style>#sk-container-id-1 {color: black;background-color: white;}#sk-container-id-1 pre{padding: 0;}#sk-container-id-1 div.sk-toggleable {background-color: white;}#sk-container-id-1 label.sk-toggleable__label {cursor: pointer;display: block;width: 100%;margin-bottom: 0;padding: 0.3em;box-sizing: border-box;text-align: center;}#sk-container-id-1 label.sk-toggleable__label-arrow:before {content: \"▸\";float: left;margin-right: 0.25em;color: #696969;}#sk-container-id-1 label.sk-toggleable__label-arrow:hover:before {color: black;}#sk-container-id-1 div.sk-estimator:hover label.sk-toggleable__label-arrow:before {color: black;}#sk-container-id-1 div.sk-toggleable__content {max-height: 0;max-width: 0;overflow: hidden;text-align: left;background-color: #f0f8ff;}#sk-container-id-1 div.sk-toggleable__content pre {margin: 0.2em;color: black;border-radius: 0.25em;background-color: #f0f8ff;}#sk-container-id-1 input.sk-toggleable__control:checked~div.sk-toggleable__content {max-height: 200px;max-width: 100%;overflow: auto;}#sk-container-id-1 input.sk-toggleable__control:checked~label.sk-toggleable__label-arrow:before {content: \"▾\";}#sk-container-id-1 div.sk-estimator input.sk-toggleable__control:checked~label.sk-toggleable__label {background-color: #d4ebff;}#sk-container-id-1 div.sk-label input.sk-toggleable__control:checked~label.sk-toggleable__label {background-color: #d4ebff;}#sk-container-id-1 input.sk-hidden--visually {border: 0;clip: rect(1px 1px 1px 1px);clip: rect(1px, 1px, 1px, 1px);height: 1px;margin: -1px;overflow: hidden;padding: 0;position: absolute;width: 1px;}#sk-container-id-1 div.sk-estimator {font-family: monospace;background-color: #f0f8ff;border: 1px dotted black;border-radius: 0.25em;box-sizing: border-box;margin-bottom: 0.5em;}#sk-container-id-1 div.sk-estimator:hover {background-color: #d4ebff;}#sk-container-id-1 div.sk-parallel-item::after {content: \"\";width: 100%;border-bottom: 1px solid gray;flex-grow: 1;}#sk-container-id-1 div.sk-label:hover label.sk-toggleable__label {background-color: #d4ebff;}#sk-container-id-1 div.sk-serial::before {content: \"\";position: absolute;border-left: 1px solid gray;box-sizing: border-box;top: 0;bottom: 0;left: 50%;z-index: 0;}#sk-container-id-1 div.sk-serial {display: flex;flex-direction: column;align-items: center;background-color: white;padding-right: 0.2em;padding-left: 0.2em;position: relative;}#sk-container-id-1 div.sk-item {position: relative;z-index: 1;}#sk-container-id-1 div.sk-parallel {display: flex;align-items: stretch;justify-content: center;background-color: white;position: relative;}#sk-container-id-1 div.sk-item::before, #sk-container-id-1 div.sk-parallel-item::before {content: \"\";position: absolute;border-left: 1px solid gray;box-sizing: border-box;top: 0;bottom: 0;left: 50%;z-index: -1;}#sk-container-id-1 div.sk-parallel-item {display: flex;flex-direction: column;z-index: 1;position: relative;background-color: white;}#sk-container-id-1 div.sk-parallel-item:first-child::after {align-self: flex-end;width: 50%;}#sk-container-id-1 div.sk-parallel-item:last-child::after {align-self: flex-start;width: 50%;}#sk-container-id-1 div.sk-parallel-item:only-child::after {width: 0;}#sk-container-id-1 div.sk-dashed-wrapped {border: 1px dashed gray;margin: 0 0.4em 0.5em 0.4em;box-sizing: border-box;padding-bottom: 0.4em;background-color: white;}#sk-container-id-1 div.sk-label label {font-family: monospace;font-weight: bold;display: inline-block;line-height: 1.2em;}#sk-container-id-1 div.sk-label-container {text-align: center;}#sk-container-id-1 div.sk-container {/* jupyter's `normalize.less` sets `[hidden] { display: none; }` but bootstrap.min.css set `[hidden] { display: none !important; }` so we also need the `!important` here to be able to override the default hidden behavior on the sphinx rendered scikit-learn.org. See: https://github.com/scikit-learn/scikit-learn/issues/21755 */display: inline-block !important;position: relative;}#sk-container-id-1 div.sk-text-repr-fallback {display: none;}</style><div id=\"sk-container-id-1\" class=\"sk-top-container\"><div class=\"sk-text-repr-fallback\"><pre>XGBClassifier(base_score=None, booster=None, callbacks=None,\n",
       "              colsample_bylevel=None, colsample_bynode=None,\n",
       "              colsample_bytree=None, device=None, early_stopping_rounds=None,\n",
       "              enable_categorical=False, eval_metric=&#x27;logloss&#x27;,\n",
       "              feature_types=None, gamma=None, grow_policy=None,\n",
       "              importance_type=None, interaction_constraints=None,\n",
       "              learning_rate=None, max_bin=None, max_cat_threshold=None,\n",
       "              max_cat_to_onehot=None, max_delta_step=None, max_depth=None,\n",
       "              max_leaves=None, min_child_weight=None, missing=nan,\n",
       "              monotone_constraints=None, multi_strategy=None, n_estimators=None,\n",
       "              n_jobs=None, num_parallel_tree=None, random_state=None, ...)</pre><b>In a Jupyter environment, please rerun this cell to show the HTML representation or trust the notebook. <br />On GitHub, the HTML representation is unable to render, please try loading this page with nbviewer.org.</b></div><div class=\"sk-container\" hidden><div class=\"sk-item\"><div class=\"sk-estimator sk-toggleable\"><input class=\"sk-toggleable__control sk-hidden--visually\" id=\"sk-estimator-id-1\" type=\"checkbox\" checked><label for=\"sk-estimator-id-1\" class=\"sk-toggleable__label sk-toggleable__label-arrow\">XGBClassifier</label><div class=\"sk-toggleable__content\"><pre>XGBClassifier(base_score=None, booster=None, callbacks=None,\n",
       "              colsample_bylevel=None, colsample_bynode=None,\n",
       "              colsample_bytree=None, device=None, early_stopping_rounds=None,\n",
       "              enable_categorical=False, eval_metric=&#x27;logloss&#x27;,\n",
       "              feature_types=None, gamma=None, grow_policy=None,\n",
       "              importance_type=None, interaction_constraints=None,\n",
       "              learning_rate=None, max_bin=None, max_cat_threshold=None,\n",
       "              max_cat_to_onehot=None, max_delta_step=None, max_depth=None,\n",
       "              max_leaves=None, min_child_weight=None, missing=nan,\n",
       "              monotone_constraints=None, multi_strategy=None, n_estimators=None,\n",
       "              n_jobs=None, num_parallel_tree=None, random_state=None, ...)</pre></div></div></div></div></div>"
      ],
      "text/plain": [
       "XGBClassifier(base_score=None, booster=None, callbacks=None,\n",
       "              colsample_bylevel=None, colsample_bynode=None,\n",
       "              colsample_bytree=None, device=None, early_stopping_rounds=None,\n",
       "              enable_categorical=False, eval_metric='logloss',\n",
       "              feature_types=None, gamma=None, grow_policy=None,\n",
       "              importance_type=None, interaction_constraints=None,\n",
       "              learning_rate=None, max_bin=None, max_cat_threshold=None,\n",
       "              max_cat_to_onehot=None, max_delta_step=None, max_depth=None,\n",
       "              max_leaves=None, min_child_weight=None, missing=nan,\n",
       "              monotone_constraints=None, multi_strategy=None, n_estimators=None,\n",
       "              n_jobs=None, num_parallel_tree=None, random_state=None, ...)"
      ]
     },
     "execution_count": 39,
     "metadata": {},
     "output_type": "execute_result"
    }
   ],
   "source": [
    "model.fit(X_tr, y_tr)"
   ]
  },
  {
   "cell_type": "code",
   "execution_count": 40,
   "id": "1d9f3c1b",
   "metadata": {
    "execution": {
     "iopub.execute_input": "2024-10-18T23:13:21.755995Z",
     "iopub.status.busy": "2024-10-18T23:13:21.755469Z",
     "iopub.status.idle": "2024-10-18T23:14:18.060533Z",
     "shell.execute_reply": "2024-10-18T23:14:18.059283Z"
    },
    "papermill": {
     "duration": 56.380649,
     "end_time": "2024-10-18T23:14:18.098567",
     "exception": false,
     "start_time": "2024-10-18T23:13:21.717918",
     "status": "completed"
    },
    "tags": []
   },
   "outputs": [
    {
     "data": {
      "text/html": [
       "<style>#sk-container-id-2 {color: black;background-color: white;}#sk-container-id-2 pre{padding: 0;}#sk-container-id-2 div.sk-toggleable {background-color: white;}#sk-container-id-2 label.sk-toggleable__label {cursor: pointer;display: block;width: 100%;margin-bottom: 0;padding: 0.3em;box-sizing: border-box;text-align: center;}#sk-container-id-2 label.sk-toggleable__label-arrow:before {content: \"▸\";float: left;margin-right: 0.25em;color: #696969;}#sk-container-id-2 label.sk-toggleable__label-arrow:hover:before {color: black;}#sk-container-id-2 div.sk-estimator:hover label.sk-toggleable__label-arrow:before {color: black;}#sk-container-id-2 div.sk-toggleable__content {max-height: 0;max-width: 0;overflow: hidden;text-align: left;background-color: #f0f8ff;}#sk-container-id-2 div.sk-toggleable__content pre {margin: 0.2em;color: black;border-radius: 0.25em;background-color: #f0f8ff;}#sk-container-id-2 input.sk-toggleable__control:checked~div.sk-toggleable__content {max-height: 200px;max-width: 100%;overflow: auto;}#sk-container-id-2 input.sk-toggleable__control:checked~label.sk-toggleable__label-arrow:before {content: \"▾\";}#sk-container-id-2 div.sk-estimator input.sk-toggleable__control:checked~label.sk-toggleable__label {background-color: #d4ebff;}#sk-container-id-2 div.sk-label input.sk-toggleable__control:checked~label.sk-toggleable__label {background-color: #d4ebff;}#sk-container-id-2 input.sk-hidden--visually {border: 0;clip: rect(1px 1px 1px 1px);clip: rect(1px, 1px, 1px, 1px);height: 1px;margin: -1px;overflow: hidden;padding: 0;position: absolute;width: 1px;}#sk-container-id-2 div.sk-estimator {font-family: monospace;background-color: #f0f8ff;border: 1px dotted black;border-radius: 0.25em;box-sizing: border-box;margin-bottom: 0.5em;}#sk-container-id-2 div.sk-estimator:hover {background-color: #d4ebff;}#sk-container-id-2 div.sk-parallel-item::after {content: \"\";width: 100%;border-bottom: 1px solid gray;flex-grow: 1;}#sk-container-id-2 div.sk-label:hover label.sk-toggleable__label {background-color: #d4ebff;}#sk-container-id-2 div.sk-serial::before {content: \"\";position: absolute;border-left: 1px solid gray;box-sizing: border-box;top: 0;bottom: 0;left: 50%;z-index: 0;}#sk-container-id-2 div.sk-serial {display: flex;flex-direction: column;align-items: center;background-color: white;padding-right: 0.2em;padding-left: 0.2em;position: relative;}#sk-container-id-2 div.sk-item {position: relative;z-index: 1;}#sk-container-id-2 div.sk-parallel {display: flex;align-items: stretch;justify-content: center;background-color: white;position: relative;}#sk-container-id-2 div.sk-item::before, #sk-container-id-2 div.sk-parallel-item::before {content: \"\";position: absolute;border-left: 1px solid gray;box-sizing: border-box;top: 0;bottom: 0;left: 50%;z-index: -1;}#sk-container-id-2 div.sk-parallel-item {display: flex;flex-direction: column;z-index: 1;position: relative;background-color: white;}#sk-container-id-2 div.sk-parallel-item:first-child::after {align-self: flex-end;width: 50%;}#sk-container-id-2 div.sk-parallel-item:last-child::after {align-self: flex-start;width: 50%;}#sk-container-id-2 div.sk-parallel-item:only-child::after {width: 0;}#sk-container-id-2 div.sk-dashed-wrapped {border: 1px dashed gray;margin: 0 0.4em 0.5em 0.4em;box-sizing: border-box;padding-bottom: 0.4em;background-color: white;}#sk-container-id-2 div.sk-label label {font-family: monospace;font-weight: bold;display: inline-block;line-height: 1.2em;}#sk-container-id-2 div.sk-label-container {text-align: center;}#sk-container-id-2 div.sk-container {/* jupyter's `normalize.less` sets `[hidden] { display: none; }` but bootstrap.min.css set `[hidden] { display: none !important; }` so we also need the `!important` here to be able to override the default hidden behavior on the sphinx rendered scikit-learn.org. See: https://github.com/scikit-learn/scikit-learn/issues/21755 */display: inline-block !important;position: relative;}#sk-container-id-2 div.sk-text-repr-fallback {display: none;}</style><div id=\"sk-container-id-2\" class=\"sk-top-container\"><div class=\"sk-text-repr-fallback\"><pre>GridSearchCV(cv=StratifiedKFold(n_splits=5, random_state=120975, shuffle=True),\n",
       "             estimator=XGBClassifier(base_score=None, booster=None,\n",
       "                                     callbacks=None, colsample_bylevel=None,\n",
       "                                     colsample_bynode=None,\n",
       "                                     colsample_bytree=None, device=None,\n",
       "                                     early_stopping_rounds=None,\n",
       "                                     enable_categorical=False,\n",
       "                                     eval_metric=&#x27;logloss&#x27;, feature_types=None,\n",
       "                                     gamma=None, grow_policy=None,\n",
       "                                     impor...\n",
       "                                     max_delta_step=None, max_depth=None,\n",
       "                                     max_leaves=None, min_child_weight=None,\n",
       "                                     missing=nan, monotone_constraints=None,\n",
       "                                     multi_strategy=None, n_estimators=None,\n",
       "                                     n_jobs=None, num_parallel_tree=None,\n",
       "                                     random_state=None, ...),\n",
       "             param_grid={&#x27;colsample_bytree&#x27;: [0.8],\n",
       "                         &#x27;learning_rate&#x27;: [0.0001, 0.001, 0.01, 0.1, 0.2, 0.3],\n",
       "                         &#x27;n_estimators&#x27;: range(50, 500, 50),\n",
       "                         &#x27;subsample&#x27;: [0.8]},\n",
       "             scoring=&#x27;roc_auc&#x27;)</pre><b>In a Jupyter environment, please rerun this cell to show the HTML representation or trust the notebook. <br />On GitHub, the HTML representation is unable to render, please try loading this page with nbviewer.org.</b></div><div class=\"sk-container\" hidden><div class=\"sk-item sk-dashed-wrapped\"><div class=\"sk-label-container\"><div class=\"sk-label sk-toggleable\"><input class=\"sk-toggleable__control sk-hidden--visually\" id=\"sk-estimator-id-2\" type=\"checkbox\" ><label for=\"sk-estimator-id-2\" class=\"sk-toggleable__label sk-toggleable__label-arrow\">GridSearchCV</label><div class=\"sk-toggleable__content\"><pre>GridSearchCV(cv=StratifiedKFold(n_splits=5, random_state=120975, shuffle=True),\n",
       "             estimator=XGBClassifier(base_score=None, booster=None,\n",
       "                                     callbacks=None, colsample_bylevel=None,\n",
       "                                     colsample_bynode=None,\n",
       "                                     colsample_bytree=None, device=None,\n",
       "                                     early_stopping_rounds=None,\n",
       "                                     enable_categorical=False,\n",
       "                                     eval_metric=&#x27;logloss&#x27;, feature_types=None,\n",
       "                                     gamma=None, grow_policy=None,\n",
       "                                     impor...\n",
       "                                     max_delta_step=None, max_depth=None,\n",
       "                                     max_leaves=None, min_child_weight=None,\n",
       "                                     missing=nan, monotone_constraints=None,\n",
       "                                     multi_strategy=None, n_estimators=None,\n",
       "                                     n_jobs=None, num_parallel_tree=None,\n",
       "                                     random_state=None, ...),\n",
       "             param_grid={&#x27;colsample_bytree&#x27;: [0.8],\n",
       "                         &#x27;learning_rate&#x27;: [0.0001, 0.001, 0.01, 0.1, 0.2, 0.3],\n",
       "                         &#x27;n_estimators&#x27;: range(50, 500, 50),\n",
       "                         &#x27;subsample&#x27;: [0.8]},\n",
       "             scoring=&#x27;roc_auc&#x27;)</pre></div></div></div><div class=\"sk-parallel\"><div class=\"sk-parallel-item\"><div class=\"sk-item\"><div class=\"sk-label-container\"><div class=\"sk-label sk-toggleable\"><input class=\"sk-toggleable__control sk-hidden--visually\" id=\"sk-estimator-id-3\" type=\"checkbox\" ><label for=\"sk-estimator-id-3\" class=\"sk-toggleable__label sk-toggleable__label-arrow\">estimator: XGBClassifier</label><div class=\"sk-toggleable__content\"><pre>XGBClassifier(base_score=None, booster=None, callbacks=None,\n",
       "              colsample_bylevel=None, colsample_bynode=None,\n",
       "              colsample_bytree=None, device=None, early_stopping_rounds=None,\n",
       "              enable_categorical=False, eval_metric=&#x27;logloss&#x27;,\n",
       "              feature_types=None, gamma=None, grow_policy=None,\n",
       "              importance_type=None, interaction_constraints=None,\n",
       "              learning_rate=None, max_bin=None, max_cat_threshold=None,\n",
       "              max_cat_to_onehot=None, max_delta_step=None, max_depth=None,\n",
       "              max_leaves=None, min_child_weight=None, missing=nan,\n",
       "              monotone_constraints=None, multi_strategy=None, n_estimators=None,\n",
       "              n_jobs=None, num_parallel_tree=None, random_state=None, ...)</pre></div></div></div><div class=\"sk-serial\"><div class=\"sk-item\"><div class=\"sk-estimator sk-toggleable\"><input class=\"sk-toggleable__control sk-hidden--visually\" id=\"sk-estimator-id-4\" type=\"checkbox\" ><label for=\"sk-estimator-id-4\" class=\"sk-toggleable__label sk-toggleable__label-arrow\">XGBClassifier</label><div class=\"sk-toggleable__content\"><pre>XGBClassifier(base_score=None, booster=None, callbacks=None,\n",
       "              colsample_bylevel=None, colsample_bynode=None,\n",
       "              colsample_bytree=None, device=None, early_stopping_rounds=None,\n",
       "              enable_categorical=False, eval_metric=&#x27;logloss&#x27;,\n",
       "              feature_types=None, gamma=None, grow_policy=None,\n",
       "              importance_type=None, interaction_constraints=None,\n",
       "              learning_rate=None, max_bin=None, max_cat_threshold=None,\n",
       "              max_cat_to_onehot=None, max_delta_step=None, max_depth=None,\n",
       "              max_leaves=None, min_child_weight=None, missing=nan,\n",
       "              monotone_constraints=None, multi_strategy=None, n_estimators=None,\n",
       "              n_jobs=None, num_parallel_tree=None, random_state=None, ...)</pre></div></div></div></div></div></div></div></div></div></div>"
      ],
      "text/plain": [
       "GridSearchCV(cv=StratifiedKFold(n_splits=5, random_state=120975, shuffle=True),\n",
       "             estimator=XGBClassifier(base_score=None, booster=None,\n",
       "                                     callbacks=None, colsample_bylevel=None,\n",
       "                                     colsample_bynode=None,\n",
       "                                     colsample_bytree=None, device=None,\n",
       "                                     early_stopping_rounds=None,\n",
       "                                     enable_categorical=False,\n",
       "                                     eval_metric='logloss', feature_types=None,\n",
       "                                     gamma=None, grow_policy=None,\n",
       "                                     impor...\n",
       "                                     max_delta_step=None, max_depth=None,\n",
       "                                     max_leaves=None, min_child_weight=None,\n",
       "                                     missing=nan, monotone_constraints=None,\n",
       "                                     multi_strategy=None, n_estimators=None,\n",
       "                                     n_jobs=None, num_parallel_tree=None,\n",
       "                                     random_state=None, ...),\n",
       "             param_grid={'colsample_bytree': [0.8],\n",
       "                         'learning_rate': [0.0001, 0.001, 0.01, 0.1, 0.2, 0.3],\n",
       "                         'n_estimators': range(50, 500, 50),\n",
       "                         'subsample': [0.8]},\n",
       "             scoring='roc_auc')"
      ]
     },
     "execution_count": 40,
     "metadata": {},
     "output_type": "execute_result"
    }
   ],
   "source": [
    "# using GridSearch to find the best parameters\n",
    "\n",
    "# tuning learning_rate and n_estimators\n",
    "params = {\n",
    "    \"subsample\":[0.8],\n",
    "    \"colsample_bytree\":[0.8],\n",
    "    \"learning_rate\":[0.0001, 0.001, 0.01, 0.1, 0.2,0.3],\n",
    "    \"n_estimators\": range(50,500,50)\n",
    "}\n",
    "\n",
    "grid = GridSearchCV(model, params, cv=cv, scoring=\"roc_auc\")\n",
    "\n",
    "grid.fit(X_tr, y_tr)"
   ]
  },
  {
   "cell_type": "code",
   "execution_count": 41,
   "id": "ea00d987",
   "metadata": {
    "execution": {
     "iopub.execute_input": "2024-10-18T23:14:18.176068Z",
     "iopub.status.busy": "2024-10-18T23:14:18.174720Z",
     "iopub.status.idle": "2024-10-18T23:14:18.190732Z",
     "shell.execute_reply": "2024-10-18T23:14:18.189818Z"
    },
    "papermill": {
     "duration": 0.060434,
     "end_time": "2024-10-18T23:14:18.196395",
     "exception": false,
     "start_time": "2024-10-18T23:14:18.135961",
     "status": "completed"
    },
    "tags": []
   },
   "outputs": [
    {
     "name": "stdout",
     "output_type": "stream",
     "text": [
      "Tuned score: 0.8586021505376344\n"
     ]
    }
   ],
   "source": [
    "score = roc_auc_score(y_ts, grid.predict_proba(X_ts)[:,1])\n",
    "\n",
    "print(f\"Tuned score: {score}\")"
   ]
  },
  {
   "cell_type": "code",
   "execution_count": 42,
   "id": "9de26d24",
   "metadata": {
    "execution": {
     "iopub.execute_input": "2024-10-18T23:14:18.270632Z",
     "iopub.status.busy": "2024-10-18T23:14:18.270191Z",
     "iopub.status.idle": "2024-10-18T23:14:18.279767Z",
     "shell.execute_reply": "2024-10-18T23:14:18.277962Z"
    },
    "papermill": {
     "duration": 0.05064,
     "end_time": "2024-10-18T23:14:18.283144",
     "exception": false,
     "start_time": "2024-10-18T23:14:18.232504",
     "status": "completed"
    },
    "tags": []
   },
   "outputs": [
    {
     "data": {
      "text/plain": [
       "{'colsample_bytree': 0.8,\n",
       " 'learning_rate': 0.01,\n",
       " 'n_estimators': 50,\n",
       " 'subsample': 0.8}"
      ]
     },
     "execution_count": 42,
     "metadata": {},
     "output_type": "execute_result"
    }
   ],
   "source": [
    "grid.best_params_"
   ]
  },
  {
   "cell_type": "code",
   "execution_count": 43,
   "id": "8bb89b17",
   "metadata": {
    "execution": {
     "iopub.execute_input": "2024-10-18T23:14:18.357451Z",
     "iopub.status.busy": "2024-10-18T23:14:18.356997Z",
     "iopub.status.idle": "2024-10-18T23:14:21.672718Z",
     "shell.execute_reply": "2024-10-18T23:14:21.671686Z"
    },
    "papermill": {
     "duration": 3.356085,
     "end_time": "2024-10-18T23:14:21.675565",
     "exception": false,
     "start_time": "2024-10-18T23:14:18.319480",
     "status": "completed"
    },
    "tags": []
   },
   "outputs": [
    {
     "name": "stdout",
     "output_type": "stream",
     "text": [
      "Tuned score: 0.8604218362282878\n",
      "{'colsample_bytree': 0.8, 'learning_rate': 0.01, 'max_depth': 8, 'min_child_weight': 1, 'n_estimators': 50, 'subsample': 0.8}\n"
     ]
    }
   ],
   "source": [
    "# tuning max_depth and min_child_weight\n",
    "params = {\n",
    "    \"subsample\":[0.8],\n",
    "    \"colsample_bytree\":[0.8],\n",
    "    \"learning_rate\":[0.01],\n",
    "    \"n_estimators\": [50],\n",
    "    \"max_depth\": range(2,10,2),\n",
    "    \"min_child_weight\": range(1,6,2)\n",
    "}\n",
    "\n",
    "grid = GridSearchCV(model, params, cv=cv, scoring=\"roc_auc\")\n",
    "grid.fit(X_tr, y_tr)\n",
    "\n",
    "score = roc_auc_score(y_ts, grid.predict_proba(X_ts)[:,1])\n",
    "print(f\"Tuned score: {score}\")\n",
    "print(grid.best_params_)"
   ]
  },
  {
   "cell_type": "code",
   "execution_count": 44,
   "id": "0935aa5d",
   "metadata": {
    "execution": {
     "iopub.execute_input": "2024-10-18T23:14:21.752695Z",
     "iopub.status.busy": "2024-10-18T23:14:21.752239Z",
     "iopub.status.idle": "2024-10-18T23:14:37.004809Z",
     "shell.execute_reply": "2024-10-18T23:14:37.003710Z"
    },
    "papermill": {
     "duration": 15.29462,
     "end_time": "2024-10-18T23:14:37.008496",
     "exception": false,
     "start_time": "2024-10-18T23:14:21.713876",
     "status": "completed"
    },
    "tags": []
   },
   "outputs": [
    {
     "name": "stdout",
     "output_type": "stream",
     "text": [
      "Tuned score: 0.8604218362282878\n",
      "{'colsample_bytree': 0.8, 'learning_rate': 0.01, 'max_depth': 8, 'min_child_weight': 1, 'model__gamma': 0.0, 'model__reg_lambda': 0, 'n_estimators': 50, 'subsample': 0.8}\n"
     ]
    }
   ],
   "source": [
    "# tuning model__gamma and model__reg_lambda\n",
    "params = {\n",
    "    \"subsample\":[0.8],\n",
    "    \"colsample_bytree\":[0.8],\n",
    "    \"learning_rate\":[0.01],\n",
    "    \"n_estimators\": [50],\n",
    "    \"max_depth\": [8],\n",
    "    \"min_child_weight\": [1],\n",
    "    \"model__gamma\": [i/10.0 for i in range(0,6)],\n",
    "    \"model__reg_lambda\": [0, 0.5, 1, 1.5, 2, 3, 4.5]\n",
    "}\n",
    "\n",
    "grid = GridSearchCV(model, params, cv=cv, scoring=\"roc_auc\")\n",
    "\n",
    "grid.fit(X_tr, y_tr)\n",
    "\n",
    "score = roc_auc_score(y_ts, grid.predict_proba(X_ts)[:,1])\n",
    "print(f\"Tuned score: {score}\")\n",
    "print(grid.best_params_)"
   ]
  },
  {
   "cell_type": "code",
   "execution_count": 45,
   "id": "9dec6239",
   "metadata": {
    "execution": {
     "iopub.execute_input": "2024-10-18T23:14:37.100967Z",
     "iopub.status.busy": "2024-10-18T23:14:37.099676Z",
     "iopub.status.idle": "2024-10-18T23:14:37.121382Z",
     "shell.execute_reply": "2024-10-18T23:14:37.120262Z"
    },
    "papermill": {
     "duration": 0.064975,
     "end_time": "2024-10-18T23:14:37.125079",
     "exception": false,
     "start_time": "2024-10-18T23:14:37.060104",
     "status": "completed"
    },
    "tags": []
   },
   "outputs": [
    {
     "data": {
      "text/plain": [
       "array([0, 0, 0, 0, 0, 0, 1, 0, 1, 0, 0, 0, 1, 0, 1, 1, 0, 0, 0, 1, 0, 1,\n",
       "       1, 0, 0, 0, 1, 0, 0, 0, 0, 0, 0, 0, 0, 0, 0, 0, 0, 0, 0, 0, 0, 1,\n",
       "       1, 0, 0, 0, 1, 0, 0, 0, 1, 1, 0, 0, 0, 0, 0, 1, 0, 0, 0, 1, 0, 1,\n",
       "       1, 0, 0, 0, 1, 0, 0, 0, 1, 0, 0, 1, 0, 1, 1, 0, 0, 0, 0, 0, 1, 0,\n",
       "       1, 1, 0, 0, 1, 0, 0, 0, 1, 0, 0, 0, 1, 0, 0, 0, 0, 0, 0, 0, 0, 0,\n",
       "       0, 1, 1, 1, 1, 0, 0, 0, 0, 1, 1, 0, 1, 0, 0, 0, 0, 0, 0, 0, 0, 0,\n",
       "       0, 0, 0, 0, 0, 0, 0, 0, 0, 1, 0, 0, 0, 0, 0, 0, 0, 0, 1, 0, 0, 0,\n",
       "       0, 0, 1, 0, 0, 0, 1, 1, 1, 0, 0, 0, 0, 0, 1, 0, 0, 0, 0, 0, 0, 1,\n",
       "       1, 0, 1, 1, 0, 0, 1, 0, 1, 0, 1, 0, 0, 0, 0, 0, 1, 0, 1, 0, 1, 0,\n",
       "       0, 0, 1, 1, 0, 1, 0, 0, 1, 0, 1, 0, 0, 0, 0, 1, 0, 0, 1, 0, 1, 0,\n",
       "       1, 0, 1, 0, 1, 0, 0, 1, 0, 0, 0, 1, 0, 0, 0, 0, 0, 0, 1, 1, 1, 1,\n",
       "       0, 0, 1, 0, 1, 0, 1, 0, 1, 0, 0, 0, 0, 0, 0, 0, 1, 0, 0, 0, 1, 0,\n",
       "       0, 0, 0, 0, 0, 0, 0, 0, 1, 0, 0, 1, 0, 0, 0, 0, 0, 1, 1, 0, 1, 0,\n",
       "       0, 0, 0, 0, 0, 1, 0, 0, 0, 0, 1, 0, 0, 0, 0, 0, 0, 0, 1, 1, 0, 1,\n",
       "       0, 0, 0, 0, 0, 1, 1, 1, 0, 0, 0, 0, 0, 0, 0, 0, 1, 0, 1, 0, 0, 0,\n",
       "       1, 0, 0, 0, 0, 0, 0, 0, 0, 1, 0, 0, 0, 1, 1, 0, 0, 1, 0, 1, 1, 0,\n",
       "       0, 0, 0, 0, 1, 0, 0, 0, 0, 1, 1, 0, 1, 0, 0, 0, 1, 0, 0, 1, 0, 0,\n",
       "       1, 1, 0, 0, 0, 0, 0, 0, 0, 0, 0, 1, 0, 0, 0, 0, 0, 1, 0, 0, 0, 1,\n",
       "       0, 1, 0, 0, 1, 0, 1, 0, 0, 0, 0, 0, 1, 0, 1, 1, 0, 0, 1, 0, 0, 1])"
      ]
     },
     "execution_count": 45,
     "metadata": {},
     "output_type": "execute_result"
    }
   ],
   "source": [
    "res = grid.predict(x_test)\n",
    "res"
   ]
  },
  {
   "cell_type": "code",
   "execution_count": 46,
   "id": "41a8c211",
   "metadata": {
    "execution": {
     "iopub.execute_input": "2024-10-18T23:14:37.203567Z",
     "iopub.status.busy": "2024-10-18T23:14:37.203131Z",
     "iopub.status.idle": "2024-10-18T23:14:37.218126Z",
     "shell.execute_reply": "2024-10-18T23:14:37.216940Z"
    },
    "papermill": {
     "duration": 0.058212,
     "end_time": "2024-10-18T23:14:37.220661",
     "exception": false,
     "start_time": "2024-10-18T23:14:37.162449",
     "status": "completed"
    },
    "tags": []
   },
   "outputs": [
    {
     "data": {
      "text/html": [
       "<div>\n",
       "<style scoped>\n",
       "    .dataframe tbody tr th:only-of-type {\n",
       "        vertical-align: middle;\n",
       "    }\n",
       "\n",
       "    .dataframe tbody tr th {\n",
       "        vertical-align: top;\n",
       "    }\n",
       "\n",
       "    .dataframe thead th {\n",
       "        text-align: right;\n",
       "    }\n",
       "</style>\n",
       "<table border=\"1\" class=\"dataframe\">\n",
       "  <thead>\n",
       "    <tr style=\"text-align: right;\">\n",
       "      <th></th>\n",
       "      <th>PassengersId</th>\n",
       "      <th>Survived</th>\n",
       "    </tr>\n",
       "  </thead>\n",
       "  <tbody>\n",
       "    <tr>\n",
       "      <th>0</th>\n",
       "      <td>892</td>\n",
       "      <td>0</td>\n",
       "    </tr>\n",
       "    <tr>\n",
       "      <th>1</th>\n",
       "      <td>893</td>\n",
       "      <td>0</td>\n",
       "    </tr>\n",
       "    <tr>\n",
       "      <th>2</th>\n",
       "      <td>894</td>\n",
       "      <td>0</td>\n",
       "    </tr>\n",
       "    <tr>\n",
       "      <th>3</th>\n",
       "      <td>895</td>\n",
       "      <td>0</td>\n",
       "    </tr>\n",
       "    <tr>\n",
       "      <th>4</th>\n",
       "      <td>896</td>\n",
       "      <td>0</td>\n",
       "    </tr>\n",
       "    <tr>\n",
       "      <th>...</th>\n",
       "      <td>...</td>\n",
       "      <td>...</td>\n",
       "    </tr>\n",
       "    <tr>\n",
       "      <th>413</th>\n",
       "      <td>1305</td>\n",
       "      <td>0</td>\n",
       "    </tr>\n",
       "    <tr>\n",
       "      <th>414</th>\n",
       "      <td>1306</td>\n",
       "      <td>1</td>\n",
       "    </tr>\n",
       "    <tr>\n",
       "      <th>415</th>\n",
       "      <td>1307</td>\n",
       "      <td>0</td>\n",
       "    </tr>\n",
       "    <tr>\n",
       "      <th>416</th>\n",
       "      <td>1308</td>\n",
       "      <td>0</td>\n",
       "    </tr>\n",
       "    <tr>\n",
       "      <th>417</th>\n",
       "      <td>1309</td>\n",
       "      <td>1</td>\n",
       "    </tr>\n",
       "  </tbody>\n",
       "</table>\n",
       "<p>418 rows × 2 columns</p>\n",
       "</div>"
      ],
      "text/plain": [
       "     PassengersId  Survived\n",
       "0             892         0\n",
       "1             893         0\n",
       "2             894         0\n",
       "3             895         0\n",
       "4             896         0\n",
       "..            ...       ...\n",
       "413          1305         0\n",
       "414          1306         1\n",
       "415          1307         0\n",
       "416          1308         0\n",
       "417          1309         1\n",
       "\n",
       "[418 rows x 2 columns]"
      ]
     },
     "execution_count": 46,
     "metadata": {},
     "output_type": "execute_result"
    }
   ],
   "source": [
    "df_res = pd.DataFrame({\"PassengersId\":test_df[\"PassengerId\"].tolist(), \"Survived\": res})\n",
    "df_res"
   ]
  },
  {
   "cell_type": "code",
   "execution_count": 47,
   "id": "8a4fbfcb",
   "metadata": {
    "execution": {
     "iopub.execute_input": "2024-10-18T23:14:37.297014Z",
     "iopub.status.busy": "2024-10-18T23:14:37.296575Z",
     "iopub.status.idle": "2024-10-18T23:14:37.306727Z",
     "shell.execute_reply": "2024-10-18T23:14:37.305338Z"
    },
    "papermill": {
     "duration": 0.052194,
     "end_time": "2024-10-18T23:14:37.309453",
     "exception": false,
     "start_time": "2024-10-18T23:14:37.257259",
     "status": "completed"
    },
    "tags": []
   },
   "outputs": [],
   "source": [
    "df_res.to_csv(\"result.csv\", index=False)"
   ]
  },
  {
   "cell_type": "code",
   "execution_count": 48,
   "id": "e2e4e58f",
   "metadata": {
    "execution": {
     "iopub.execute_input": "2024-10-18T23:14:37.385786Z",
     "iopub.status.busy": "2024-10-18T23:14:37.384803Z",
     "iopub.status.idle": "2024-10-18T23:14:37.594120Z",
     "shell.execute_reply": "2024-10-18T23:14:37.592664Z"
    },
    "papermill": {
     "duration": 0.250437,
     "end_time": "2024-10-18T23:14:37.597187",
     "exception": false,
     "start_time": "2024-10-18T23:14:37.346750",
     "status": "completed"
    },
    "tags": []
   },
   "outputs": [
    {
     "data": {
      "image/png": "[encoded data removed]",
      "text/plain": [
       "<Figure size 640x480 with 1 Axes>"
      ]
     },
     "metadata": {},
     "output_type": "display_data"
    }
   ],
   "source": [
    "conf_mat = confusion_matrix(y_ts, grid.predict(X_ts))\n",
    "\n",
    "sns.heatmap(conf_mat, cmap=\"Blues\", annot=True, fmt=\"d\", cbar=False)\n",
    "plt.xlabel(\"Predicted\")\n",
    "plt.ylabel(\"Actual\")\n",
    "plt.title(\"Confusion matrix\")\n",
    "plt.show()"
   ]
  },
  {
   "cell_type": "code",
   "execution_count": 49,
   "id": "ac286699",
   "metadata": {
    "execution": {
     "iopub.execute_input": "2024-10-18T23:14:37.674423Z",
     "iopub.status.busy": "2024-10-18T23:14:37.674012Z",
     "iopub.status.idle": "2024-10-18T23:14:37.707750Z",
     "shell.execute_reply": "2024-10-18T23:14:37.706196Z"
    },
    "papermill": {
     "duration": 0.075306,
     "end_time": "2024-10-18T23:14:37.710607",
     "exception": false,
     "start_time": "2024-10-18T23:14:37.635301",
     "status": "completed"
    },
    "tags": []
   },
   "outputs": [
    {
     "data": {
      "text/html": [
       "<div>\n",
       "<style scoped>\n",
       "    .dataframe tbody tr th:only-of-type {\n",
       "        vertical-align: middle;\n",
       "    }\n",
       "\n",
       "    .dataframe tbody tr th {\n",
       "        vertical-align: top;\n",
       "    }\n",
       "\n",
       "    .dataframe thead th {\n",
       "        text-align: right;\n",
       "    }\n",
       "</style>\n",
       "<table border=\"1\" class=\"dataframe\">\n",
       "  <thead>\n",
       "    <tr style=\"text-align: right;\">\n",
       "      <th></th>\n",
       "      <th>0</th>\n",
       "      <th>1</th>\n",
       "      <th>accuracy</th>\n",
       "      <th>macro avg</th>\n",
       "      <th>weighted avg</th>\n",
       "    </tr>\n",
       "  </thead>\n",
       "  <tbody>\n",
       "    <tr>\n",
       "      <th>precision</th>\n",
       "      <td>0.762500</td>\n",
       "      <td>0.873016</td>\n",
       "      <td>0.793722</td>\n",
       "      <td>0.817758</td>\n",
       "      <td>0.808590</td>\n",
       "    </tr>\n",
       "    <tr>\n",
       "      <th>recall</th>\n",
       "      <td>0.938462</td>\n",
       "      <td>0.591398</td>\n",
       "      <td>0.793722</td>\n",
       "      <td>0.764930</td>\n",
       "      <td>0.793722</td>\n",
       "    </tr>\n",
       "    <tr>\n",
       "      <th>f1-score</th>\n",
       "      <td>0.841379</td>\n",
       "      <td>0.705128</td>\n",
       "      <td>0.793722</td>\n",
       "      <td>0.773254</td>\n",
       "      <td>0.784557</td>\n",
       "    </tr>\n",
       "    <tr>\n",
       "      <th>support</th>\n",
       "      <td>130.000000</td>\n",
       "      <td>93.000000</td>\n",
       "      <td>0.793722</td>\n",
       "      <td>223.000000</td>\n",
       "      <td>223.000000</td>\n",
       "    </tr>\n",
       "  </tbody>\n",
       "</table>\n",
       "</div>"
      ],
      "text/plain": [
       "                    0          1  accuracy   macro avg  weighted avg\n",
       "precision    0.762500   0.873016  0.793722    0.817758      0.808590\n",
       "recall       0.938462   0.591398  0.793722    0.764930      0.793722\n",
       "f1-score     0.841379   0.705128  0.793722    0.773254      0.784557\n",
       "support    130.000000  93.000000  0.793722  223.000000    223.000000"
      ]
     },
     "execution_count": 49,
     "metadata": {},
     "output_type": "execute_result"
    }
   ],
   "source": [
    "pd.DataFrame(classification_report(y_ts, grid.predict(X_ts), output_dict=True))"
   ]
  },
  {
   "cell_type": "code",
   "execution_count": 50,
   "id": "fa519c60",
   "metadata": {
    "execution": {
     "iopub.execute_input": "2024-10-18T23:14:37.788296Z",
     "iopub.status.busy": "2024-10-18T23:14:37.787789Z",
     "iopub.status.idle": "2024-10-18T23:16:28.580424Z",
     "shell.execute_reply": "2024-10-18T23:16:28.579432Z"
    },
    "papermill": {
     "duration": 110.834485,
     "end_time": "2024-10-18T23:16:28.583363",
     "exception": false,
     "start_time": "2024-10-18T23:14:37.748878",
     "status": "completed"
    },
    "tags": []
   },
   "outputs": [],
   "source": [
    "acc_score = cross_val_score(grid, X_ts,y_ts, cv=cv, scoring=\"accuracy\")\n",
    "auc_score = cross_val_score(grid, X_ts,y_ts, cv=cv, scoring=\"roc_auc\")"
   ]
  },
  {
   "cell_type": "code",
   "execution_count": 51,
   "id": "71c5de35",
   "metadata": {
    "execution": {
     "iopub.execute_input": "2024-10-18T23:16:28.665373Z",
     "iopub.status.busy": "2024-10-18T23:16:28.664400Z",
     "iopub.status.idle": "2024-10-18T23:16:28.671090Z",
     "shell.execute_reply": "2024-10-18T23:16:28.669911Z"
    },
    "papermill": {
     "duration": 0.052809,
     "end_time": "2024-10-18T23:16:28.674496",
     "exception": false,
     "start_time": "2024-10-18T23:16:28.621687",
     "status": "completed"
    },
    "tags": []
   },
   "outputs": [
    {
     "name": "stdout",
     "output_type": "stream",
     "text": [
      "ROC AUC score:\t0.81 +- 0.06;\n",
      "Accuracy:\t0.78 +- 0.03\n"
     ]
    }
   ],
   "source": [
    "print(f\"ROC AUC score:\\t{auc_score.mean():.2f} +- {auc_score.std():.2f};\\nAccuracy:\\t{acc_score.mean():.2f} +- {acc_score.std():.2f}\")"
   ]
  }
 ],
 "metadata": {
  "kaggle": {
   "accelerator": "none",
   "dataSources": [
    {
     "databundleVersionId": 26502,
     "sourceId": 3136,
     "sourceType": "competition"
    }
   ],
   "dockerImageVersionId": 30775,
   "isGpuEnabled": false,
   "isInternetEnabled": false,
   "language": "python",
   "sourceType": "notebook"
  },
  "kernelspec": {
   "display_name": "Python 3",
   "language": "python",
   "name": "python3"
  },
  "language_info": {
   "codemirror_mode": {
    "name": "ipython",
    "version": 3
   },
   "file_extension": ".py",
   "mimetype": "text/x-python",
   "name": "python",
   "nbconvert_exporter": "python",
   "pygments_lexer": "ipython3",
   "version": "3.10.14"
  },
  "papermill": {
   "default_parameters": {},
   "duration": 210.658404,
   "end_time": "2024-10-18T23:16:29.536712",
   "environment_variables": {},
   "exception": null,
   "input_path": "__notebook__.ipynb",
   "output_path": "__notebook__.ipynb",
   "parameters": {},
   "start_time": "2024-10-18T23:12:58.878308",
   "version": "2.6.0"
  }
 },
 "nbformat": 4,
 "nbformat_minor": 5
}
